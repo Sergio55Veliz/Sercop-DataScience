{
 "cells": [
  {
   "cell_type": "code",
   "execution_count": 3,
   "metadata": {},
   "outputs": [],
   "source": [
    "import pandas as pd\n",
    "import numpy as np\n",
    "import seaborn as sbn\n",
    "import matplotlib.pyplot as plt\n",
    "import geopandas as gpd\n",
    "import folium, fiona, branca"
   ]
  },
  {
   "cell_type": "code",
   "execution_count": 1,
   "metadata": {},
   "outputs": [],
   "source": [
    "from __init__ import *\n",
    "from extracting_dataset import *\n",
    "from extracting_dataset import load_complete_data\n",
    "from statistics import mean\n",
    "import json"
   ]
  },
  {
   "cell_type": "code",
   "execution_count": 4,
   "metadata": {},
   "outputs": [],
   "source": [
    "def generate_df_NF062(unzip = True):\n",
    "    years = [2019, 2020, 2021, 2022]\n",
    "    list_df = []\n",
    "\n",
    "    for year in years:\n",
    "        df = pd.json_normalize(load_complete_data(year, unzip)['content'])\n",
    "        # Filtro a la data que queremos analizar\n",
    "        df = df.loc[(df[\"tender.status\"]==\"complete\") \n",
    "                    & (df[\"awards\"].notnull()) \n",
    "                    & (df[\"tender.awardPeriod.durationInDays\"]>0)\n",
    "                    ].reset_index(drop=True)\n",
    "\n",
    "        df[\"NF062\"] = 0\n",
    "        df.loc[df[\"tender.awardPeriod.durationInDays\"] < mean(df[\"tender.awardPeriod.durationInDays\"]), \"NF062\"] = 1\n",
    "        \n",
    "        list_df+=df.loc[:,[\"ocid\", \"awards\", \"tender.awardPeriod.durationInDays\", \"NF062\"]].to_list()\n",
    "\n",
    "    list_to_df = []\n",
    "    for lista in list_df:\n",
    "        ocid = lista[0]\n",
    "        nf062 = lista[3]\n",
    "        for data in lista[1]:\n",
    "            ruc = data[\"suppliers\"][0][\"id\"]\n",
    "            list_to_df.append([ocid, ruc, nf062])\n",
    "\n",
    "    df_to_return = pd.DataFrame(list_to_df)\n",
    "    df_to_return.columns = [\"ocid\", \"RUC\", \"NF062\"]\n",
    "    df_to_return.head()\n",
    "    \n",
    "    return df_to_return"
   ]
  },
  {
   "cell_type": "code",
   "execution_count": 5,
   "metadata": {},
   "outputs": [
    {
     "name": "stdout",
     "output_type": "stream",
     "text": [
      "dataComplete2019_batch01.json\n",
      "dataComplete2019_batch02.json\n",
      "dataComplete2019_batch03.json\n",
      "dataComplete2019_batch04.json\n",
      "dataComplete2019_batch05.json\n",
      "dataComplete2019_batch06.json\n",
      "dataComplete2019_batch07.json\n",
      "dataComplete2019_batch08.json\n",
      "dataComplete2019_batch09.json\n",
      "dataComplete2019_batch10.json\n",
      "dataComplete2019_batch11.json\n",
      "dataComplete2019_batch12.json\n",
      "dataComplete2019_batch13.json\n",
      "dataComplete2019_batch14.json\n",
      "dataComplete2019_batch15.json\n",
      "dataComplete2019_batch16.json\n",
      "dataComplete2019_batch17.json\n",
      "dataComplete2019_batch18.json\n"
     ]
    },
    {
     "ename": "AttributeError",
     "evalue": "'DataFrame' object has no attribute 'to_list'",
     "output_type": "error",
     "traceback": [
      "\u001b[1;31m---------------------------------------------------------------------------\u001b[0m",
      "\u001b[1;31mAttributeError\u001b[0m                            Traceback (most recent call last)",
      "\u001b[1;32m~\\AppData\\Local\\Temp\\ipykernel_21500\\315784878.py\u001b[0m in \u001b[0;36m<module>\u001b[1;34m\u001b[0m\n\u001b[0;32m      1\u001b[0m \u001b[0mname_csv\u001b[0m \u001b[1;33m=\u001b[0m \u001b[1;34m\"nf062.csv\"\u001b[0m\u001b[1;33m\u001b[0m\u001b[0m\n\u001b[1;32m----> 2\u001b[1;33m \u001b[0mgenerate_df_NF062\u001b[0m\u001b[1;33m(\u001b[0m\u001b[0munzip\u001b[0m\u001b[1;33m=\u001b[0m\u001b[1;32mFalse\u001b[0m\u001b[1;33m)\u001b[0m\u001b[1;33m.\u001b[0m\u001b[0mto_csv\u001b[0m\u001b[1;33m(\u001b[0m\u001b[0murl_proyect\u001b[0m \u001b[1;33m+\u001b[0m \u001b[1;34m'\\\\data\\\\redflags_analysis\\\\'\u001b[0m \u001b[1;33m+\u001b[0m \u001b[0mname_csv\u001b[0m\u001b[1;33m,\u001b[0m \u001b[0mindex\u001b[0m\u001b[1;33m=\u001b[0m\u001b[1;32mFalse\u001b[0m\u001b[1;33m)\u001b[0m\u001b[1;33m\u001b[0m\u001b[0m\n\u001b[0m",
      "\u001b[1;32m~\\AppData\\Local\\Temp\\ipykernel_21500\\1426701184.py\u001b[0m in \u001b[0;36mgenerate_df_NF062\u001b[1;34m(unzip)\u001b[0m\n\u001b[0;32m     14\u001b[0m         \u001b[0mdf\u001b[0m\u001b[1;33m.\u001b[0m\u001b[0mloc\u001b[0m\u001b[1;33m[\u001b[0m\u001b[0mdf\u001b[0m\u001b[1;33m[\u001b[0m\u001b[1;34m\"tender.awardPeriod.durationInDays\"\u001b[0m\u001b[1;33m]\u001b[0m \u001b[1;33m<\u001b[0m \u001b[0mmean\u001b[0m\u001b[1;33m(\u001b[0m\u001b[0mdf\u001b[0m\u001b[1;33m[\u001b[0m\u001b[1;34m\"tender.awardPeriod.durationInDays\"\u001b[0m\u001b[1;33m]\u001b[0m\u001b[1;33m)\u001b[0m\u001b[1;33m,\u001b[0m \u001b[1;34m\"NF062\"\u001b[0m\u001b[1;33m]\u001b[0m \u001b[1;33m=\u001b[0m \u001b[1;36m1\u001b[0m\u001b[1;33m\u001b[0m\u001b[0m\n\u001b[0;32m     15\u001b[0m \u001b[1;33m\u001b[0m\u001b[0m\n\u001b[1;32m---> 16\u001b[1;33m         \u001b[0mlist_df\u001b[0m\u001b[1;33m+=\u001b[0m\u001b[0mdf\u001b[0m\u001b[1;33m.\u001b[0m\u001b[0mloc\u001b[0m\u001b[1;33m[\u001b[0m\u001b[1;33m:\u001b[0m\u001b[1;33m,\u001b[0m\u001b[1;33m[\u001b[0m\u001b[1;34m\"ocid\"\u001b[0m\u001b[1;33m,\u001b[0m \u001b[1;34m\"awards\"\u001b[0m\u001b[1;33m,\u001b[0m \u001b[1;34m\"tender.awardPeriod.durationInDays\"\u001b[0m\u001b[1;33m,\u001b[0m \u001b[1;34m\"NF062\"\u001b[0m\u001b[1;33m]\u001b[0m\u001b[1;33m]\u001b[0m\u001b[1;33m.\u001b[0m\u001b[0mto_list\u001b[0m\u001b[1;33m(\u001b[0m\u001b[1;33m)\u001b[0m\u001b[1;33m\u001b[0m\u001b[0m\n\u001b[0m\u001b[0;32m     17\u001b[0m \u001b[1;33m\u001b[0m\u001b[0m\n\u001b[0;32m     18\u001b[0m     \u001b[0mlist_to_df\u001b[0m \u001b[1;33m=\u001b[0m \u001b[1;33m[\u001b[0m\u001b[1;33m]\u001b[0m\u001b[1;33m\u001b[0m\u001b[0m\n",
      "\u001b[1;32md:\\sergio\\documents\\datascience\\venv\\lib\\site-packages\\pandas\\core\\generic.py\u001b[0m in \u001b[0;36m__getattr__\u001b[1;34m(self, name)\u001b[0m\n\u001b[0;32m   5139\u001b[0m             \u001b[1;32mif\u001b[0m \u001b[0mself\u001b[0m\u001b[1;33m.\u001b[0m\u001b[0m_info_axis\u001b[0m\u001b[1;33m.\u001b[0m\u001b[0m_can_hold_identifiers_and_holds_name\u001b[0m\u001b[1;33m(\u001b[0m\u001b[0mname\u001b[0m\u001b[1;33m)\u001b[0m\u001b[1;33m:\u001b[0m\u001b[1;33m\u001b[0m\u001b[0m\n\u001b[0;32m   5140\u001b[0m                 \u001b[1;32mreturn\u001b[0m \u001b[0mself\u001b[0m\u001b[1;33m[\u001b[0m\u001b[0mname\u001b[0m\u001b[1;33m]\u001b[0m\u001b[1;33m\u001b[0m\u001b[0m\n\u001b[1;32m-> 5141\u001b[1;33m             \u001b[1;32mreturn\u001b[0m \u001b[0mobject\u001b[0m\u001b[1;33m.\u001b[0m\u001b[0m__getattribute__\u001b[0m\u001b[1;33m(\u001b[0m\u001b[0mself\u001b[0m\u001b[1;33m,\u001b[0m \u001b[0mname\u001b[0m\u001b[1;33m)\u001b[0m\u001b[1;33m\u001b[0m\u001b[0m\n\u001b[0m\u001b[0;32m   5142\u001b[0m \u001b[1;33m\u001b[0m\u001b[0m\n\u001b[0;32m   5143\u001b[0m     \u001b[1;32mdef\u001b[0m \u001b[0m__setattr__\u001b[0m\u001b[1;33m(\u001b[0m\u001b[0mself\u001b[0m\u001b[1;33m,\u001b[0m \u001b[0mname\u001b[0m\u001b[1;33m:\u001b[0m \u001b[0mstr\u001b[0m\u001b[1;33m,\u001b[0m \u001b[0mvalue\u001b[0m\u001b[1;33m)\u001b[0m \u001b[1;33m->\u001b[0m \u001b[1;32mNone\u001b[0m\u001b[1;33m:\u001b[0m\u001b[1;33m\u001b[0m\u001b[0m\n",
      "\u001b[1;31mAttributeError\u001b[0m: 'DataFrame' object has no attribute 'to_list'"
     ]
    }
   ],
   "source": [
    "name_csv = \"nf062.csv\"\n",
    "generate_df_NF062(unzip=False).to_csv(url_proyect + '\\\\data\\\\redflags_analysis\\\\' + name_csv, index=False)"
   ]
  },
  {
   "cell_type": "code",
   "execution_count": null,
   "metadata": {},
   "outputs": [],
   "source": []
  }
 ],
 "metadata": {
  "kernelspec": {
   "display_name": "Python 3 (ipykernel)",
   "language": "python",
   "name": "python3"
  },
  "language_info": {
   "codemirror_mode": {
    "name": "ipython",
    "version": 3
   },
   "file_extension": ".py",
   "mimetype": "text/x-python",
   "name": "python",
   "nbconvert_exporter": "python",
   "pygments_lexer": "ipython3",
   "version": "3.7.0"
  },
  "vscode": {
   "interpreter": {
    "hash": "e76a4ca81a85a63884b920f7920a334002dfec0710dbe8e4912b1c8abc8858e6"
   }
  }
 },
 "nbformat": 4,
 "nbformat_minor": 2
}
