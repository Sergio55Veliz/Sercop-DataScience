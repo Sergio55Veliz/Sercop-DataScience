{
  "nbformat": 4,
  "nbformat_minor": 0,
  "metadata": {
    "colab": {
      "provenance": [],
      "collapsed_sections": [
        "6LzAOrh-kaL-",
        "KY8_5i10X4Q4",
        "foJ5Dl5c6OeT",
        "NGHc4GpY6V9_",
        "wAojOjGHX4G6",
        "GAs2QQVhX39p"
      ]
    },
    "kernelspec": {
      "name": "python3",
      "display_name": "Python 3"
    },
    "language_info": {
      "name": "python"
    },
    "accelerator": "TPU",
    "gpuClass": "standard"
  },
  "cells": [
    {
      "cell_type": "markdown",
      "source": [
        "# Load Data - Ignorar"
      ],
      "metadata": {
        "id": "aPTL8l59kYFD"
      }
    },
    {
      "cell_type": "code",
      "execution_count": 1,
      "metadata": {
        "colab": {
          "base_uri": "https://localhost:8080/"
        },
        "id": "51ilHAe6kQ6G",
        "outputId": "6a698558-17bd-4ba4-db5d-9c66a36870e6"
      },
      "outputs": [
        {
          "output_type": "stream",
          "name": "stdout",
          "text": [
            "Cloning into 'Sercop-DataScience'...\n",
            "remote: Enumerating objects: 280, done.\u001b[K\n",
            "remote: Counting objects: 100% (79/79), done.\u001b[K\n",
            "remote: Compressing objects: 100% (55/55), done.\u001b[K\n",
            "remote: Total 280 (delta 25), reused 78 (delta 24), pack-reused 201\u001b[K\n",
            "Receiving objects: 100% (280/280), 583.52 MiB | 18.22 MiB/s, done.\n",
            "Resolving deltas: 100% (127/127), done.\n",
            "Checking out files: 100% (119/119), done.\n"
          ]
        }
      ],
      "source": [
        "!git clone https://github.com/Sergio55Veliz/Sercop-DataScience.git"
      ]
    },
    {
      "cell_type": "code",
      "source": [
        "cd Sercop-DataScience"
      ],
      "metadata": {
        "colab": {
          "base_uri": "https://localhost:8080/"
        },
        "id": "Iy0e8jVxkjhL",
        "outputId": "868dd49b-352a-43a8-84e3-5a0ab9dd8730"
      },
      "execution_count": 2,
      "outputs": [
        {
          "output_type": "stream",
          "name": "stdout",
          "text": [
            "/content/Sercop-DataScience\n"
          ]
        }
      ]
    },
    {
      "cell_type": "code",
      "source": [
        "!ls"
      ],
      "metadata": {
        "colab": {
          "base_uri": "https://localhost:8080/"
        },
        "id": "jhRkxpeUkjfD",
        "outputId": "2eb938fc-510f-4fc4-f30b-3a63d4572046"
      },
      "execution_count": 3,
      "outputs": [
        {
          "output_type": "stream",
          "name": "stdout",
          "text": [
            " data\t\t\t Jorge.ipynb  'Preguntas 4-7.ipynb'   Sergio.ipynb\n",
            " extracting_dataset.py\t logs\t       __pycache__\t      utilities\n",
            " __init__.py\t\t main.py       README.md\n"
          ]
        }
      ]
    },
    {
      "cell_type": "code",
      "source": [
        "!pip install colorama"
      ],
      "metadata": {
        "colab": {
          "base_uri": "https://localhost:8080/"
        },
        "id": "uKVAOiO6kjck",
        "outputId": "e365ce0a-3b11-4be6-9878-0eee7de53b46"
      },
      "execution_count": 4,
      "outputs": [
        {
          "output_type": "stream",
          "name": "stdout",
          "text": [
            "Looking in indexes: https://pypi.org/simple, https://us-python.pkg.dev/colab-wheels/public/simple/\n",
            "Collecting colorama\n",
            "  Downloading colorama-0.4.6-py2.py3-none-any.whl (25 kB)\n",
            "Installing collected packages: colorama\n",
            "Successfully installed colorama-0.4.6\n"
          ]
        }
      ]
    },
    {
      "cell_type": "code",
      "source": [
        "from extracting_dataset import *\n",
        "from extracting_dataset import load_complete_data"
      ],
      "metadata": {
        "id": "qtEZlPnX-vyN"
      },
      "execution_count": 5,
      "outputs": []
    },
    {
      "cell_type": "code",
      "source": [
        "#json_2019 = load_complete_data(2019, True)\n",
        "#json_2020 = load_complete_data(2020, True)\n",
        "#json_2021 = load_complete_data(2021, True)\n",
        "#json_2022 = load_complete_data(2022, True)"
      ],
      "metadata": {
        "id": "bRcFH8ag-wN0"
      },
      "execution_count": 6,
      "outputs": []
    },
    {
      "cell_type": "code",
      "source": [
        "import pandas as pd\n",
        "import numpy as np"
      ],
      "metadata": {
        "id": "avsan-MmCVCb"
      },
      "execution_count": 7,
      "outputs": []
    },
    {
      "cell_type": "code",
      "source": [
        "year = '2019'\n",
        "#dataComplete_2019 = None\n",
        "#dataComplete_2019 = pd.json_normalize(load_complete_data(year, True)['content'])\n",
        "#dataComplete_2019.head()"
      ],
      "metadata": {
        "id": "2WvZiMArnztt"
      },
      "execution_count": 8,
      "outputs": []
    },
    {
      "cell_type": "code",
      "source": [
        "#dataComplete_2019.shape"
      ],
      "metadata": {
        "id": "br1ikHjP-pIN"
      },
      "execution_count": 9,
      "outputs": []
    },
    {
      "cell_type": "code",
      "source": [
        "#for element in dataComplete_2019.columns: print(element)\n",
        "#element = None"
      ],
      "metadata": {
        "id": "wsKR7GnNqO1O"
      },
      "execution_count": 10,
      "outputs": []
    },
    {
      "cell_type": "markdown",
      "source": [
        "id\n",
        "\n",
        "tag\n",
        "\n",
        "date\n",
        "\n",
        "ocid\n",
        "\n",
        "awards\n",
        "\n",
        "parties\n",
        "\n",
        "language\n",
        "\n",
        "contracts\n",
        "\n",
        "initiationType\n",
        "\n",
        "buyer.id\n",
        "buyer.name\n",
        "\n",
        "tender.id\n",
        "tender.items\n",
        "tender.title\n",
        "tender.value.amount\n",
        "tender.value.currency\n",
        "tender.status\n",
        "tender.tenderers\n",
        "tender.awardPeriod.endDate\n",
        "tender.awardPeriod.maxExtentDate\n",
        "tender.description\n",
        "tender.tenderPeriod.endDate\n",
        "tender.tenderPeriod.startDate\n",
        "tender.tenderPeriod.maxExtentDate\n",
        "tender.tenderPeriod.durationInDays\n",
        "tender.awardCriteria\n",
        "tender.enquiryPeriod.startDate\n",
        "tender.procuringEntity.id\n",
        "tender.procuringEntity.name\n",
        "tender.numberOfTenderers\n",
        "tender.procurementMethod\n",
        "tender.eligibilityCriteria\n",
        "tender.mainProcurementCategory\n",
        "tender.procurementMethodDetails\n",
        "\n",
        "tender.competitive\n",
        "\n",
        "tender.lots\n",
        "tender.enquiries\n",
        "tender.awardPeriod.startDate\n",
        "tender.awardPeriod.durationInDays\n",
        "tender.hasEnquiries\n",
        "tender.enquiryPeriod.endDate\n",
        "tender.enquiryPeriod.maxExtentDate\n",
        "tender.enquiryPeriod.durationInDays\n",
        "\n",
        "tender.awardCriteriaDetails\n",
        "\n",
        "planning.budget.id\n",
        "planning.budget.amount.amount\n",
        "planning.budget.amount.currency\n",
        "planning.rationale\n",
        "\n",
        "relatedProcesses\n",
        "\n",
        "auctions\n",
        "\n",
        "bids.details\n",
        "bids.statistics\n"
      ],
      "metadata": {
        "id": "ynef4EelrWo-"
      }
    },
    {
      "cell_type": "code",
      "source": [
        "#!git pull"
      ],
      "metadata": {
        "id": "6UIUx5XyA-Wd"
      },
      "execution_count": 11,
      "outputs": []
    },
    {
      "cell_type": "markdown",
      "source": [
        "# Preguntas 8 y 9\n",
        "\n",
        "- ¿Cuál es la suma de el número de veces que las empresas ganaron las licitaciones según su sector de producción por año?\n",
        "\n",
        "- ¿Cuál es la suma de el número de veces que las empresas NO ganaron las licitaciones según su sector de producción por año?"
      ],
      "metadata": {
        "id": "7E_RR3XW9ZPo"
      }
    },
    {
      "cell_type": "code",
      "source": [
        "from __init__ import *\n",
        "from extracting_dataset import *\n",
        "from extracting_dataset import load_complete_data"
      ],
      "metadata": {
        "id": "ffscqTvRZfic"
      },
      "execution_count": 15,
      "outputs": []
    },
    {
      "cell_type": "markdown",
      "source": [
        "## Data Generation"
      ],
      "metadata": {
        "id": "N5GJEskBt-dY"
      }
    },
    {
      "cell_type": "code",
      "source": [
        "dataEmpresas = pd.read_csv(\"data/directorio_companias.csv\", encoding = \"cp1252\").loc[:, [\"NOMBRE\", \"RUC\", \"CIIU NIVEL 1\"]]\n",
        "dataEmpresas.columns = [\"NOMBRE\", \"RUC\", \"CIIU\"]\n",
        "dataEmpresas = dataEmpresas.loc[~ dataEmpresas[\"CIIU\"].isna()].reset_index(drop=True)\n",
        "dataEmpresas.head()"
      ],
      "metadata": {
        "colab": {
          "base_uri": "https://localhost:8080/",
          "height": 206
        },
        "id": "Lb3TEpe7-Qja",
        "outputId": "1d4bce8f-3f9b-41a7-aaeb-1871f69ecb70"
      },
      "execution_count": 16,
      "outputs": [
        {
          "output_type": "execute_result",
          "data": {
            "text/plain": [
              "                                           NOMBRE           RUC CIIU\n",
              "0        ACEITES TROPICALES SOCIEDAD ANONIMA ATSA  1.790014e+12    A\n",
              "1                   ACERIA DEL ECUADOR CA ADELCA.  1.790005e+12    C\n",
              "2                ACERO COMERCIAL ECUATORIANO S.A.  1.790009e+12    G\n",
              "3                AERO TAXIS ECUATORIANOS SA ATESA  1.790006e+12    H\n",
              "4  AEROVIAS DEL CONTINENTE AMERICANO S.A. AVIANCA  1.790044e+12    H"
            ],
            "text/html": [
              "\n",
              "  <div id=\"df-f8fb4dac-9466-4ad2-ba32-e38f74315d49\">\n",
              "    <div class=\"colab-df-container\">\n",
              "      <div>\n",
              "<style scoped>\n",
              "    .dataframe tbody tr th:only-of-type {\n",
              "        vertical-align: middle;\n",
              "    }\n",
              "\n",
              "    .dataframe tbody tr th {\n",
              "        vertical-align: top;\n",
              "    }\n",
              "\n",
              "    .dataframe thead th {\n",
              "        text-align: right;\n",
              "    }\n",
              "</style>\n",
              "<table border=\"1\" class=\"dataframe\">\n",
              "  <thead>\n",
              "    <tr style=\"text-align: right;\">\n",
              "      <th></th>\n",
              "      <th>NOMBRE</th>\n",
              "      <th>RUC</th>\n",
              "      <th>CIIU</th>\n",
              "    </tr>\n",
              "  </thead>\n",
              "  <tbody>\n",
              "    <tr>\n",
              "      <th>0</th>\n",
              "      <td>ACEITES TROPICALES SOCIEDAD ANONIMA ATSA</td>\n",
              "      <td>1.790014e+12</td>\n",
              "      <td>A</td>\n",
              "    </tr>\n",
              "    <tr>\n",
              "      <th>1</th>\n",
              "      <td>ACERIA DEL ECUADOR CA ADELCA.</td>\n",
              "      <td>1.790005e+12</td>\n",
              "      <td>C</td>\n",
              "    </tr>\n",
              "    <tr>\n",
              "      <th>2</th>\n",
              "      <td>ACERO COMERCIAL ECUATORIANO S.A.</td>\n",
              "      <td>1.790009e+12</td>\n",
              "      <td>G</td>\n",
              "    </tr>\n",
              "    <tr>\n",
              "      <th>3</th>\n",
              "      <td>AERO TAXIS ECUATORIANOS SA ATESA</td>\n",
              "      <td>1.790006e+12</td>\n",
              "      <td>H</td>\n",
              "    </tr>\n",
              "    <tr>\n",
              "      <th>4</th>\n",
              "      <td>AEROVIAS DEL CONTINENTE AMERICANO S.A. AVIANCA</td>\n",
              "      <td>1.790044e+12</td>\n",
              "      <td>H</td>\n",
              "    </tr>\n",
              "  </tbody>\n",
              "</table>\n",
              "</div>\n",
              "      <button class=\"colab-df-convert\" onclick=\"convertToInteractive('df-f8fb4dac-9466-4ad2-ba32-e38f74315d49')\"\n",
              "              title=\"Convert this dataframe to an interactive table.\"\n",
              "              style=\"display:none;\">\n",
              "        \n",
              "  <svg xmlns=\"http://www.w3.org/2000/svg\" height=\"24px\"viewBox=\"0 0 24 24\"\n",
              "       width=\"24px\">\n",
              "    <path d=\"M0 0h24v24H0V0z\" fill=\"none\"/>\n",
              "    <path d=\"M18.56 5.44l.94 2.06.94-2.06 2.06-.94-2.06-.94-.94-2.06-.94 2.06-2.06.94zm-11 1L8.5 8.5l.94-2.06 2.06-.94-2.06-.94L8.5 2.5l-.94 2.06-2.06.94zm10 10l.94 2.06.94-2.06 2.06-.94-2.06-.94-.94-2.06-.94 2.06-2.06.94z\"/><path d=\"M17.41 7.96l-1.37-1.37c-.4-.4-.92-.59-1.43-.59-.52 0-1.04.2-1.43.59L10.3 9.45l-7.72 7.72c-.78.78-.78 2.05 0 2.83L4 21.41c.39.39.9.59 1.41.59.51 0 1.02-.2 1.41-.59l7.78-7.78 2.81-2.81c.8-.78.8-2.07 0-2.86zM5.41 20L4 18.59l7.72-7.72 1.47 1.35L5.41 20z\"/>\n",
              "  </svg>\n",
              "      </button>\n",
              "      \n",
              "  <style>\n",
              "    .colab-df-container {\n",
              "      display:flex;\n",
              "      flex-wrap:wrap;\n",
              "      gap: 12px;\n",
              "    }\n",
              "\n",
              "    .colab-df-convert {\n",
              "      background-color: #E8F0FE;\n",
              "      border: none;\n",
              "      border-radius: 50%;\n",
              "      cursor: pointer;\n",
              "      display: none;\n",
              "      fill: #1967D2;\n",
              "      height: 32px;\n",
              "      padding: 0 0 0 0;\n",
              "      width: 32px;\n",
              "    }\n",
              "\n",
              "    .colab-df-convert:hover {\n",
              "      background-color: #E2EBFA;\n",
              "      box-shadow: 0px 1px 2px rgba(60, 64, 67, 0.3), 0px 1px 3px 1px rgba(60, 64, 67, 0.15);\n",
              "      fill: #174EA6;\n",
              "    }\n",
              "\n",
              "    [theme=dark] .colab-df-convert {\n",
              "      background-color: #3B4455;\n",
              "      fill: #D2E3FC;\n",
              "    }\n",
              "\n",
              "    [theme=dark] .colab-df-convert:hover {\n",
              "      background-color: #434B5C;\n",
              "      box-shadow: 0px 1px 3px 1px rgba(0, 0, 0, 0.15);\n",
              "      filter: drop-shadow(0px 1px 2px rgba(0, 0, 0, 0.3));\n",
              "      fill: #FFFFFF;\n",
              "    }\n",
              "  </style>\n",
              "\n",
              "      <script>\n",
              "        const buttonEl =\n",
              "          document.querySelector('#df-f8fb4dac-9466-4ad2-ba32-e38f74315d49 button.colab-df-convert');\n",
              "        buttonEl.style.display =\n",
              "          google.colab.kernel.accessAllowed ? 'block' : 'none';\n",
              "\n",
              "        async function convertToInteractive(key) {\n",
              "          const element = document.querySelector('#df-f8fb4dac-9466-4ad2-ba32-e38f74315d49');\n",
              "          const dataTable =\n",
              "            await google.colab.kernel.invokeFunction('convertToInteractive',\n",
              "                                                     [key], {});\n",
              "          if (!dataTable) return;\n",
              "\n",
              "          const docLinkHtml = 'Like what you see? Visit the ' +\n",
              "            '<a target=\"_blank\" href=https://colab.research.google.com/notebooks/data_table.ipynb>data table notebook</a>'\n",
              "            + ' to learn more about interactive tables.';\n",
              "          element.innerHTML = '';\n",
              "          dataTable['output_type'] = 'display_data';\n",
              "          await google.colab.output.renderOutput(dataTable, element);\n",
              "          const docLink = document.createElement('div');\n",
              "          docLink.innerHTML = docLinkHtml;\n",
              "          element.appendChild(docLink);\n",
              "        }\n",
              "      </script>\n",
              "    </div>\n",
              "  </div>\n",
              "  "
            ]
          },
          "metadata": {},
          "execution_count": 16
        }
      ]
    },
    {
      "cell_type": "code",
      "source": [
        "dataEmpresas.info()"
      ],
      "metadata": {
        "colab": {
          "base_uri": "https://localhost:8080/"
        },
        "id": "LgG45-L6QWIO",
        "outputId": "a4b935bb-f506-4ab1-e8cd-62919ab519fd"
      },
      "execution_count": 17,
      "outputs": [
        {
          "output_type": "stream",
          "name": "stdout",
          "text": [
            "<class 'pandas.core.frame.DataFrame'>\n",
            "RangeIndex: 178600 entries, 0 to 178599\n",
            "Data columns (total 3 columns):\n",
            " #   Column  Non-Null Count   Dtype  \n",
            "---  ------  --------------   -----  \n",
            " 0   NOMBRE  178600 non-null  object \n",
            " 1   RUC     171269 non-null  float64\n",
            " 2   CIIU    178600 non-null  object \n",
            "dtypes: float64(1), object(2)\n",
            "memory usage: 4.1+ MB\n"
          ]
        }
      ]
    },
    {
      "cell_type": "code",
      "source": [
        "ciiu_names = {\n",
        "    \"A\":\"AGRICULTURA, GANADERÍA, SILVICULTURA Y PESCA\",\n",
        "    \"B\":\"EXPLOTACIÓN DE MINAS Y CANTERAS\",\n",
        "    \"C\":\"INDUSTRIAS MANUFACTURERAS\",\n",
        "    \"D\":\"SUMINISTRO DE ELECTRICIDAD, GAS, VAPOR Y AIRE ACONDICIONADO\",\n",
        "    \"E\":\"DISTRIBUCIÓN DE AGUA; ALCANTARILLADO, GESTIÓN DE DESECHOS Y ACTIVIDADES DE SANEAMIENTO\",\n",
        "    \"F\":\"CONSTRUCCIÓN\",\n",
        "    \"G\":\"COMERCIO AL POR MAYOR Y AL POR MENOR; REPARACIÓN DE VEHÍCULOS AUTOMOTORES Y MOTOCICLETAS\",\n",
        "    \"H\":\"TRANSPORTE Y ALMACENAMIENTO\",\n",
        "    \"I\":\"ACTIVIDADES DE ALOJAMIENTO Y DE SERVICIO DE COMIDAS\",\n",
        "    \"J\":\"INFORMACIÓN Y COMUNICACIÓN\",\n",
        "    \"K\":\"ACTIVIDADES FINANCIERAS Y DE SEGUROS\",\n",
        "    \"L\":\"ACTIVIDADES INMOBILIARIAS\",\n",
        "    \"M\":\"ACTIVIDADES PROFESIONALES, CIENTÍFICAS Y TÉCNICAS\",\n",
        "    \"N\":\"ACTIVIDADES DE SERVICIOS ADMINISTRATIVOS Y DE APOYO\",\n",
        "    \"O\":\"ADMINISTRACIÓN PÚBLICA Y DEFENSA; PLANES DE SEGURIDAD SOCIAL DE AFILIACIÓN OBLIGATORIA\",\n",
        "    \"P\":\"ENSEÑANZA\",\n",
        "    \"Q\":\"ACTIVIDADES DE ATENCIÓN DE LA SALUD HUMANA Y DE ASISTENCIA SOCIAL\",\n",
        "    \"R\":\"ARTES, ENTRETENIMIENTO Y RECREACIÓN\",\n",
        "    \"S\":\"OTRAS ACTIVIDADES DE SERVICIOS\",\n",
        "    \"T\":\"ACTIVIDADES DE LOS HOGARES COMO EMPLEADORES; ACTIVIDADES NO DIFERENCIADAS DE LOS HOGARES COMO PRODUCTORES DE BIENES Y SERVICIOS PARA USO PROPIO\",\n",
        "    \"U\":\"ACTIVIDADES DE ORGANIZACIONES Y ÓRGANOS EXTRATERRITORIALES\",\n",
        "    \"otros\":\"otros\"\n",
        "}"
      ],
      "metadata": {
        "id": "Mttbt21NiPvQ"
      },
      "execution_count": 18,
      "outputs": []
    },
    {
      "cell_type": "code",
      "source": [
        "def dict_loses_wins_adjudications(dataComplete, df_empresas):\n",
        "    from extracting_dataset import progress_bar\n",
        "\n",
        "    dic_p2 = dict()\n",
        "\n",
        "    total_registers = dataComplete.loc[(dataComplete[\"tender.status\"]==\"complete\") & (dataComplete[\"awards\"].notnull()) & (dataComplete[\"tender.numberOfTenderers\"]>1)].reset_index(drop=True).shape[0]\n",
        "    for index, row in dataComplete.loc[(dataComplete[\"tender.status\"]==\"complete\") \n",
        "                                        & (dataComplete[\"awards\"].notnull()) \n",
        "                                        & (dataComplete[\"tender.numberOfTenderers\"]>1)\n",
        "                                        ].reset_index(drop=True).iterrows(): \n",
        "        progress_bar(actual_value = index+1,\n",
        "                    max_value = total_registers,\n",
        "                    initial_message = \"Progress:\"\n",
        "                    )\n",
        "        \n",
        "        list_winners = []\n",
        "        for awarded in row[\"awards\"]:\n",
        "            list_winners += awarded[\"suppliers\"].copy()\n",
        "\n",
        "        ciius_per_ocid = {}\n",
        "        for supplier_data in row[\"tender.tenderers\"]:\n",
        "            ruc = supplier_data[\"id\"]\n",
        "            name = supplier_data[\"name\"]\n",
        "            ciiu = df_empresas.loc[ruc, \"CIIU\"]\n",
        "            ciiu_name = ciiu_names[ciiu]\n",
        "\n",
        "            win  = int(supplier_data in list_winners)\n",
        "            lose = int(supplier_data not in list_winners)\n",
        "\n",
        "            if name in dic_p2:\n",
        "                dic_p2[name][\"awardeds\"] += win\n",
        "                dic_p2[name][\"loses\"] += lose\n",
        "                dic_p2[name][\"total_contracts\"] += 1\n",
        "            else:\n",
        "                dic_p2[name] = {\"RUC\": ruc,\n",
        "                                \"CIIU\": ciiu,\n",
        "                                \"CIIU_name\": ciiu_name,\n",
        "                                \"awardeds\": win,\n",
        "                                \"loses\": lose,\n",
        "                                \"total_contracts\": 1\n",
        "                                }\n",
        "\n",
        "    return dic_p2"
      ],
      "metadata": {
        "id": "F4LZ5UO8npme"
      },
      "execution_count": 19,
      "outputs": []
    },
    {
      "cell_type": "code",
      "source": [
        "def data_p_generator(year):\n",
        "    print(\"Preparing... \")\n",
        "\n",
        "    # extraer data complete\n",
        "    dataComplete = pd.json_normalize(load_complete_data(year, True)['content'])\n",
        "\n",
        "    df_empresas = pd.DataFrame(list(dataComplete[(dataComplete[\"tender.status\"]==\"complete\") \n",
        "                                                 & (dataComplete[\"awards\"].notnull()) \n",
        "                                                 & (dataComplete[\"tender.numberOfTenderers\"]>1)\n",
        "                                                 ].reset_index(drop=True\n",
        "                                                               ).explode(\"tender.tenderers\"\n",
        "                                                               ).reset_index(drop=True)[\"tender.tenderers\"]))\n",
        "    df_empresas.drop_duplicates(subset=['id'], inplace=True)\n",
        "    df_empresas.reset_index(drop=True, inplace=True)\n",
        "    df_empresas[\"RUC\"] = pd.DataFrame(df_empresas[\"id\"].str.split(\"-\").tolist()).iloc[:,2].astype(\"int64\")\n",
        "\n",
        "    #Merge\n",
        "    df_empresas = df_empresas.merge(dataEmpresas, on=\"RUC\", how=\"left\")\n",
        "\n",
        "    # Código ruc completo como index\n",
        "    df_empresas.set_index(\"id\", inplace=True)\n",
        "\n",
        "    # Manejando los valores nan en CIIU\n",
        "    df_empresas.loc[df_empresas.loc[:, \"CIIU\"].isna(), \"CIIU\"] = \"otros\"\n",
        "    # Verificamos que ya no hayan nan\n",
        "    print(df_empresas.loc[:,\"CIIU\"].isna().sum())\n",
        "\n",
        "    # Genera diccionario con #adjudicaciones ganadas, perdidas y total de contratos participados por empresa\n",
        "    return dict_loses_wins_adjudications(dataComplete, df_empresas)\n"
      ],
      "metadata": {
        "id": "NHZWhgboHyDO"
      },
      "execution_count": 37,
      "outputs": []
    },
    {
      "cell_type": "code",
      "source": [
        "def group_by_CIIU(dic_p2):\n",
        "    # Agurpamos adjudicaciones ganadas y perdidas por CIIU\n",
        "    return pd.DataFrame(dic_p2).transpose().groupby(\"CIIU\").sum().reset_index().loc[:,[\"CIIU\", \"CIIU_name\", \"awardeds\", \"loses\"]]"
      ],
      "metadata": {
        "id": "U83lyJS2Fz44"
      },
      "execution_count": 21,
      "outputs": []
    },
    {
      "cell_type": "code",
      "source": [
        "url_proyect"
      ],
      "metadata": {
        "colab": {
          "base_uri": "https://localhost:8080/",
          "height": 35
        },
        "id": "YP6_BYomZUoA",
        "outputId": "bf040470-1745-43a4-a30e-c3f6e9c43b80"
      },
      "execution_count": 22,
      "outputs": [
        {
          "output_type": "execute_result",
          "data": {
            "text/plain": [
              "'/content/Sercop-DataScience'"
            ],
            "application/vnd.google.colaboratory.intrinsic+json": {
              "type": "string"
            }
          },
          "metadata": {},
          "execution_count": 22
        }
      ]
    },
    {
      "cell_type": "code",
      "source": [
        "dir_p89_dataGenerated = url_proyect + \"/data/output/Pregunta 8 y 9/\""
      ],
      "metadata": {
        "id": "1UPMmjnh4bmh"
      },
      "execution_count": 23,
      "outputs": []
    },
    {
      "cell_type": "code",
      "source": [
        "# Generar Data\n",
        "from utilities.utilities import verify_create_folder\n",
        "verify_create_folder(dir_p89_dataGenerated)\n",
        "\n",
        "for year in [\"2019\", \"2020\", \"2021\", \"2022\"]:\n",
        "    print(\"\\n\\n\\n\", year, \"\\n\")\n",
        "    name_file = \"p8y9_\"+year+\".csv\"\n",
        "    group_by_CIIU(data_p_generator(year)\n",
        "                  ).to_csv(dir_p89_dataGenerated + name_file, index=False)"
      ],
      "metadata": {
        "colab": {
          "base_uri": "https://localhost:8080/"
        },
        "id": "mXcKBXsz6bBj",
        "outputId": "0173a357-a9b6-451d-8b6b-4819b4637a6f"
      },
      "execution_count": 24,
      "outputs": [
        {
          "output_type": "stream",
          "name": "stdout",
          "text": [
            "\tLa carpeta '/content/Sercop-DataScience/data/output/Pregunta 8 y 9/' ha sido creada EXITOSAMENTE\n",
            "\n",
            "\n",
            "\n",
            " 2019 \n",
            "\n",
            "Preparing... \n",
            "\n",
            "\tExtracted files successfully!! from:  /content/Sercop-DataScience/data/complete/2019/dataComplete2019_2.zip\n",
            "\n",
            "\tExtracted files successfully!! from:  /content/Sercop-DataScience/data/complete/2019/dataComplete2019_1.zip\n",
            "dataComplete2019_batch17.json\n",
            "dataComplete2019_batch09.json\n",
            "dataComplete2019_batch18.json\n",
            "dataComplete2019_batch08.json\n",
            "dataComplete2019_batch12.json\n",
            "dataComplete2019_batch06.json\n",
            "dataComplete2019_batch11.json\n",
            "dataComplete2019_batch15.json\n",
            "dataComplete2019_batch05.json\n",
            "dataComplete2019_batch02.json\n",
            "dataComplete2019_batch13.json\n",
            "dataComplete2019_batch01.json\n",
            "dataComplete2019_batch10.json\n",
            "dataComplete2019_batch07.json\n",
            "dataComplete2019_batch03.json\n",
            "dataComplete2019_batch04.json\n",
            "dataComplete2019_batch14.json\n",
            "dataComplete2019_batch16.json\n",
            "0\n",
            "Progress: [■■■■■■■■■■■■■■■■■■■■■■■■■■■■■■■■■■■■■■■■■■■■■■■■■■]  13017/13017 \u001b[39m\n",
            "\n",
            "\n",
            "\n",
            " 2020 \n",
            "\n",
            "Preparing... \n",
            "\n",
            "\tExtracted files successfully!! from:  /content/Sercop-DataScience/data/complete/2020/dataComplete2020_2.zip\n",
            "\n",
            "\tExtracted files successfully!! from:  /content/Sercop-DataScience/data/complete/2020/dataComplete2020_1.zip\n",
            "dataComplete2020_batch09.json\n",
            "dataComplete2020_batch11.json\n",
            "dataComplete2020_batch04.json\n",
            "dataComplete2020_batch08.json\n",
            "dataComplete2020_batch10.json\n",
            "dataComplete2020_batch05.json\n",
            "dataComplete2020_batch02.json\n",
            "dataComplete2020_batch06.json\n",
            "dataComplete2020_batch03.json\n",
            "dataComplete2020_batch01.json\n",
            "dataComplete2020_batch07.json\n",
            "0\n",
            "Progress: [■■■■■■■■■■■■■■■■■■■■■■■■■■■■■■■■■■■■■■■■■■■■■■■■■■]  10154/10154 \u001b[39m\n",
            "\n",
            "\n",
            "\n",
            " 2021 \n",
            "\n",
            "Preparing... \n",
            "\n",
            "\tExtracted files successfully!! from:  /content/Sercop-DataScience/data/complete/2021/dataComplete2021_2.zip\n",
            "\n",
            "\tExtracted files successfully!! from:  /content/Sercop-DataScience/data/complete/2021/dataComplete2021_1.zip\n",
            "dataComplete2021_batch04.json\n",
            "dataComplete2021_batch11.json\n",
            "dataComplete2021_batch09.json\n",
            "dataComplete2021_batch08.json\n",
            "dataComplete2021_batch10.json\n",
            "dataComplete2021_batch02.json\n",
            "dataComplete2021_batch07.json\n",
            "dataComplete2021_batch03.json\n",
            "dataComplete2021_batch05.json\n",
            "dataComplete2021_batch06.json\n",
            "dataComplete2021_batch01.json\n",
            "0\n",
            "Progress: [■■■■■■■■■■■■■■■■■■■■■■■■■■■■■■■■■■■■■■■■■■■■■■■■■■]   9659/9659 \u001b[39m\n",
            "\n",
            "\n",
            "\n",
            " 2022 \n",
            "\n",
            "Preparing... \n",
            "\n",
            "\tExtracted files successfully!! from:  /content/Sercop-DataScience/data/complete/2022/dataComplete2022_2.zip\n",
            "\n",
            "\tExtracted files successfully!! from:  /content/Sercop-DataScience/data/complete/2022/dataComplete2022_1.zip\n",
            "dataComplete2022_batch08.json\n",
            "dataComplete2022_batch07.json\n",
            "dataComplete2022_batch04.json\n",
            "dataComplete2022_batch03.json\n",
            "dataComplete2022_batch05.json\n",
            "dataComplete2022_batch06.json\n",
            "dataComplete2022_batch02.json\n",
            "dataComplete2022_batch01.json\n",
            "dataComplete2022_batch09.json\n",
            "dataComplete2022_batch10.json\n",
            "0\n",
            "Progress: [■■■■■■■■■■■■■■■■■■■■■■■■■■■■■■■■■■■■■■■■■■■■■■■■■■]   1492/1492 \u001b[39m\n"
          ]
        }
      ]
    },
    {
      "cell_type": "markdown",
      "source": [
        "## Visualization"
      ],
      "metadata": {
        "id": "jAwH2vD9t15g"
      }
    },
    {
      "cell_type": "code",
      "source": [
        "import seaborn as sbn\n",
        "import matplotlib.pyplot as plt"
      ],
      "metadata": {
        "id": "ZCc6VZyA-gy1"
      },
      "execution_count": 27,
      "outputs": []
    },
    {
      "cell_type": "code",
      "source": [
        "p89_2019=pd.read_csv(dir_p89_dataGenerated+\"p8y9_2019.csv\")\n",
        "p89_2020=pd.read_csv(dir_p89_dataGenerated+\"p8y9_2020.csv\")\n",
        "p89_2021=pd.read_csv(dir_p89_dataGenerated+\"p8y9_2021.csv\")\n",
        "p89_2022=pd.read_csv(dir_p89_dataGenerated+\"p8y9_2022.csv\")\n",
        "\n",
        "p89_2019[\"year\"]=\"2019\"\n",
        "p89_2020[\"year\"]=\"2020\"\n",
        "p89_2021[\"year\"]=\"2021\"\n",
        "p89_2022[\"year\"]=\"2022\""
      ],
      "metadata": {
        "id": "LIN5DMNEtvaM"
      },
      "execution_count": 28,
      "outputs": []
    },
    {
      "cell_type": "code",
      "source": [
        "p89_data = pd.concat([p89_2019, p89_2020, p89_2021, p89_2022])\n",
        "p89_data.head()"
      ],
      "metadata": {
        "colab": {
          "base_uri": "https://localhost:8080/",
          "height": 206
        },
        "id": "MMbWhi0-8uEK",
        "outputId": "c82f8eef-3f17-4c33-a1a5-c7aefde5da91"
      },
      "execution_count": 29,
      "outputs": [
        {
          "output_type": "execute_result",
          "data": {
            "text/plain": [
              "  CIIU                                          CIIU_name  awardeds  loses  \\\n",
              "0    A  AGRICULTURA, GANADERÍA, SILVICULTURA Y PESCAAG...        22     54   \n",
              "1    B  EXPLOTACIÓN DE MINAS Y CANTERASEXPLOTACIÓN DE ...        14     60   \n",
              "2    C  INDUSTRIAS MANUFACTURERASINDUSTRIAS MANUFACTUR...       734   1720   \n",
              "3    D  SUMINISTRO DE ELECTRICIDAD, GAS, VAPOR Y AIRE ...        30    106   \n",
              "4    E  DISTRIBUCIÓN DE AGUA; ALCANTARILLADO, GESTIÓN ...        38     74   \n",
              "\n",
              "   year  \n",
              "0  2019  \n",
              "1  2019  \n",
              "2  2019  \n",
              "3  2019  \n",
              "4  2019  "
            ],
            "text/html": [
              "\n",
              "  <div id=\"df-ab284edb-0a60-48ee-873d-0f172c32fc1a\">\n",
              "    <div class=\"colab-df-container\">\n",
              "      <div>\n",
              "<style scoped>\n",
              "    .dataframe tbody tr th:only-of-type {\n",
              "        vertical-align: middle;\n",
              "    }\n",
              "\n",
              "    .dataframe tbody tr th {\n",
              "        vertical-align: top;\n",
              "    }\n",
              "\n",
              "    .dataframe thead th {\n",
              "        text-align: right;\n",
              "    }\n",
              "</style>\n",
              "<table border=\"1\" class=\"dataframe\">\n",
              "  <thead>\n",
              "    <tr style=\"text-align: right;\">\n",
              "      <th></th>\n",
              "      <th>CIIU</th>\n",
              "      <th>CIIU_name</th>\n",
              "      <th>awardeds</th>\n",
              "      <th>loses</th>\n",
              "      <th>year</th>\n",
              "    </tr>\n",
              "  </thead>\n",
              "  <tbody>\n",
              "    <tr>\n",
              "      <th>0</th>\n",
              "      <td>A</td>\n",
              "      <td>AGRICULTURA, GANADERÍA, SILVICULTURA Y PESCAAG...</td>\n",
              "      <td>22</td>\n",
              "      <td>54</td>\n",
              "      <td>2019</td>\n",
              "    </tr>\n",
              "    <tr>\n",
              "      <th>1</th>\n",
              "      <td>B</td>\n",
              "      <td>EXPLOTACIÓN DE MINAS Y CANTERASEXPLOTACIÓN DE ...</td>\n",
              "      <td>14</td>\n",
              "      <td>60</td>\n",
              "      <td>2019</td>\n",
              "    </tr>\n",
              "    <tr>\n",
              "      <th>2</th>\n",
              "      <td>C</td>\n",
              "      <td>INDUSTRIAS MANUFACTURERASINDUSTRIAS MANUFACTUR...</td>\n",
              "      <td>734</td>\n",
              "      <td>1720</td>\n",
              "      <td>2019</td>\n",
              "    </tr>\n",
              "    <tr>\n",
              "      <th>3</th>\n",
              "      <td>D</td>\n",
              "      <td>SUMINISTRO DE ELECTRICIDAD, GAS, VAPOR Y AIRE ...</td>\n",
              "      <td>30</td>\n",
              "      <td>106</td>\n",
              "      <td>2019</td>\n",
              "    </tr>\n",
              "    <tr>\n",
              "      <th>4</th>\n",
              "      <td>E</td>\n",
              "      <td>DISTRIBUCIÓN DE AGUA; ALCANTARILLADO, GESTIÓN ...</td>\n",
              "      <td>38</td>\n",
              "      <td>74</td>\n",
              "      <td>2019</td>\n",
              "    </tr>\n",
              "  </tbody>\n",
              "</table>\n",
              "</div>\n",
              "      <button class=\"colab-df-convert\" onclick=\"convertToInteractive('df-ab284edb-0a60-48ee-873d-0f172c32fc1a')\"\n",
              "              title=\"Convert this dataframe to an interactive table.\"\n",
              "              style=\"display:none;\">\n",
              "        \n",
              "  <svg xmlns=\"http://www.w3.org/2000/svg\" height=\"24px\"viewBox=\"0 0 24 24\"\n",
              "       width=\"24px\">\n",
              "    <path d=\"M0 0h24v24H0V0z\" fill=\"none\"/>\n",
              "    <path d=\"M18.56 5.44l.94 2.06.94-2.06 2.06-.94-2.06-.94-.94-2.06-.94 2.06-2.06.94zm-11 1L8.5 8.5l.94-2.06 2.06-.94-2.06-.94L8.5 2.5l-.94 2.06-2.06.94zm10 10l.94 2.06.94-2.06 2.06-.94-2.06-.94-.94-2.06-.94 2.06-2.06.94z\"/><path d=\"M17.41 7.96l-1.37-1.37c-.4-.4-.92-.59-1.43-.59-.52 0-1.04.2-1.43.59L10.3 9.45l-7.72 7.72c-.78.78-.78 2.05 0 2.83L4 21.41c.39.39.9.59 1.41.59.51 0 1.02-.2 1.41-.59l7.78-7.78 2.81-2.81c.8-.78.8-2.07 0-2.86zM5.41 20L4 18.59l7.72-7.72 1.47 1.35L5.41 20z\"/>\n",
              "  </svg>\n",
              "      </button>\n",
              "      \n",
              "  <style>\n",
              "    .colab-df-container {\n",
              "      display:flex;\n",
              "      flex-wrap:wrap;\n",
              "      gap: 12px;\n",
              "    }\n",
              "\n",
              "    .colab-df-convert {\n",
              "      background-color: #E8F0FE;\n",
              "      border: none;\n",
              "      border-radius: 50%;\n",
              "      cursor: pointer;\n",
              "      display: none;\n",
              "      fill: #1967D2;\n",
              "      height: 32px;\n",
              "      padding: 0 0 0 0;\n",
              "      width: 32px;\n",
              "    }\n",
              "\n",
              "    .colab-df-convert:hover {\n",
              "      background-color: #E2EBFA;\n",
              "      box-shadow: 0px 1px 2px rgba(60, 64, 67, 0.3), 0px 1px 3px 1px rgba(60, 64, 67, 0.15);\n",
              "      fill: #174EA6;\n",
              "    }\n",
              "\n",
              "    [theme=dark] .colab-df-convert {\n",
              "      background-color: #3B4455;\n",
              "      fill: #D2E3FC;\n",
              "    }\n",
              "\n",
              "    [theme=dark] .colab-df-convert:hover {\n",
              "      background-color: #434B5C;\n",
              "      box-shadow: 0px 1px 3px 1px rgba(0, 0, 0, 0.15);\n",
              "      filter: drop-shadow(0px 1px 2px rgba(0, 0, 0, 0.3));\n",
              "      fill: #FFFFFF;\n",
              "    }\n",
              "  </style>\n",
              "\n",
              "      <script>\n",
              "        const buttonEl =\n",
              "          document.querySelector('#df-ab284edb-0a60-48ee-873d-0f172c32fc1a button.colab-df-convert');\n",
              "        buttonEl.style.display =\n",
              "          google.colab.kernel.accessAllowed ? 'block' : 'none';\n",
              "\n",
              "        async function convertToInteractive(key) {\n",
              "          const element = document.querySelector('#df-ab284edb-0a60-48ee-873d-0f172c32fc1a');\n",
              "          const dataTable =\n",
              "            await google.colab.kernel.invokeFunction('convertToInteractive',\n",
              "                                                     [key], {});\n",
              "          if (!dataTable) return;\n",
              "\n",
              "          const docLinkHtml = 'Like what you see? Visit the ' +\n",
              "            '<a target=\"_blank\" href=https://colab.research.google.com/notebooks/data_table.ipynb>data table notebook</a>'\n",
              "            + ' to learn more about interactive tables.';\n",
              "          element.innerHTML = '';\n",
              "          dataTable['output_type'] = 'display_data';\n",
              "          await google.colab.output.renderOutput(dataTable, element);\n",
              "          const docLink = document.createElement('div');\n",
              "          docLink.innerHTML = docLinkHtml;\n",
              "          element.appendChild(docLink);\n",
              "        }\n",
              "      </script>\n",
              "    </div>\n",
              "  </div>\n",
              "  "
            ]
          },
          "metadata": {},
          "execution_count": 29
        }
      ]
    },
    {
      "cell_type": "markdown",
      "source": [
        "### Respuesta a **Pregunta 8**"
      ],
      "metadata": {
        "id": "gGw6Qpm6agyi"
      }
    },
    {
      "cell_type": "code",
      "source": [
        "ciiu_wins_per_year = pd.pivot_table(data = p89_data, \n",
        "                                    aggfunc = np.sum,      # La suma de los      awardeds\n",
        "                                    values = 'awardeds',   # valor de las celdas   ↩\n",
        "                                    index = 'CIIU',        # Por tipo de sector productivo\n",
        "                                    columns = 'year'       # y por año\n",
        "                                    )\n",
        "ciiu_wins_per_year"
      ],
      "metadata": {
        "colab": {
          "base_uri": "https://localhost:8080/",
          "height": 708
        },
        "id": "IMR--S3U8rcK",
        "outputId": "47cf2aaf-d6cf-46be-b586-0b0236dd399b"
      },
      "execution_count": 30,
      "outputs": [
        {
          "output_type": "execute_result",
          "data": {
            "text/plain": [
              "year     2019    2020    2021   2022\n",
              "CIIU                                \n",
              "A        22.0    14.0    22.0    6.0\n",
              "B        14.0    17.0    10.0    1.0\n",
              "C       734.0   657.0   663.0   93.0\n",
              "D        30.0    36.0     9.0    8.0\n",
              "E        38.0    73.0    79.0   13.0\n",
              "F       692.0   505.0   472.0  129.0\n",
              "G      3061.0  2197.0  2133.0  299.0\n",
              "H       155.0   150.0   116.0   17.0\n",
              "I        10.0     0.0     4.0    1.0\n",
              "J       197.0   132.0   112.0   13.0\n",
              "K         3.0     8.0     4.0    1.0\n",
              "L        37.0    16.0    21.0    5.0\n",
              "M       331.0   272.0   183.0   35.0\n",
              "N       894.0   831.0   683.0   79.0\n",
              "O         0.0     NaN     NaN    NaN\n",
              "P        14.0     4.0    13.0    1.0\n",
              "Q        25.0    19.0    14.0    4.0\n",
              "R         3.0     0.0     6.0    2.0\n",
              "S        37.0    27.0    34.0    1.0\n",
              "otros  6727.0  5201.0  5087.0  785.0"
            ],
            "text/html": [
              "\n",
              "  <div id=\"df-afe6fb57-6483-4503-abb8-b6931bce3956\">\n",
              "    <div class=\"colab-df-container\">\n",
              "      <div>\n",
              "<style scoped>\n",
              "    .dataframe tbody tr th:only-of-type {\n",
              "        vertical-align: middle;\n",
              "    }\n",
              "\n",
              "    .dataframe tbody tr th {\n",
              "        vertical-align: top;\n",
              "    }\n",
              "\n",
              "    .dataframe thead th {\n",
              "        text-align: right;\n",
              "    }\n",
              "</style>\n",
              "<table border=\"1\" class=\"dataframe\">\n",
              "  <thead>\n",
              "    <tr style=\"text-align: right;\">\n",
              "      <th>year</th>\n",
              "      <th>2019</th>\n",
              "      <th>2020</th>\n",
              "      <th>2021</th>\n",
              "      <th>2022</th>\n",
              "    </tr>\n",
              "    <tr>\n",
              "      <th>CIIU</th>\n",
              "      <th></th>\n",
              "      <th></th>\n",
              "      <th></th>\n",
              "      <th></th>\n",
              "    </tr>\n",
              "  </thead>\n",
              "  <tbody>\n",
              "    <tr>\n",
              "      <th>A</th>\n",
              "      <td>22.0</td>\n",
              "      <td>14.0</td>\n",
              "      <td>22.0</td>\n",
              "      <td>6.0</td>\n",
              "    </tr>\n",
              "    <tr>\n",
              "      <th>B</th>\n",
              "      <td>14.0</td>\n",
              "      <td>17.0</td>\n",
              "      <td>10.0</td>\n",
              "      <td>1.0</td>\n",
              "    </tr>\n",
              "    <tr>\n",
              "      <th>C</th>\n",
              "      <td>734.0</td>\n",
              "      <td>657.0</td>\n",
              "      <td>663.0</td>\n",
              "      <td>93.0</td>\n",
              "    </tr>\n",
              "    <tr>\n",
              "      <th>D</th>\n",
              "      <td>30.0</td>\n",
              "      <td>36.0</td>\n",
              "      <td>9.0</td>\n",
              "      <td>8.0</td>\n",
              "    </tr>\n",
              "    <tr>\n",
              "      <th>E</th>\n",
              "      <td>38.0</td>\n",
              "      <td>73.0</td>\n",
              "      <td>79.0</td>\n",
              "      <td>13.0</td>\n",
              "    </tr>\n",
              "    <tr>\n",
              "      <th>F</th>\n",
              "      <td>692.0</td>\n",
              "      <td>505.0</td>\n",
              "      <td>472.0</td>\n",
              "      <td>129.0</td>\n",
              "    </tr>\n",
              "    <tr>\n",
              "      <th>G</th>\n",
              "      <td>3061.0</td>\n",
              "      <td>2197.0</td>\n",
              "      <td>2133.0</td>\n",
              "      <td>299.0</td>\n",
              "    </tr>\n",
              "    <tr>\n",
              "      <th>H</th>\n",
              "      <td>155.0</td>\n",
              "      <td>150.0</td>\n",
              "      <td>116.0</td>\n",
              "      <td>17.0</td>\n",
              "    </tr>\n",
              "    <tr>\n",
              "      <th>I</th>\n",
              "      <td>10.0</td>\n",
              "      <td>0.0</td>\n",
              "      <td>4.0</td>\n",
              "      <td>1.0</td>\n",
              "    </tr>\n",
              "    <tr>\n",
              "      <th>J</th>\n",
              "      <td>197.0</td>\n",
              "      <td>132.0</td>\n",
              "      <td>112.0</td>\n",
              "      <td>13.0</td>\n",
              "    </tr>\n",
              "    <tr>\n",
              "      <th>K</th>\n",
              "      <td>3.0</td>\n",
              "      <td>8.0</td>\n",
              "      <td>4.0</td>\n",
              "      <td>1.0</td>\n",
              "    </tr>\n",
              "    <tr>\n",
              "      <th>L</th>\n",
              "      <td>37.0</td>\n",
              "      <td>16.0</td>\n",
              "      <td>21.0</td>\n",
              "      <td>5.0</td>\n",
              "    </tr>\n",
              "    <tr>\n",
              "      <th>M</th>\n",
              "      <td>331.0</td>\n",
              "      <td>272.0</td>\n",
              "      <td>183.0</td>\n",
              "      <td>35.0</td>\n",
              "    </tr>\n",
              "    <tr>\n",
              "      <th>N</th>\n",
              "      <td>894.0</td>\n",
              "      <td>831.0</td>\n",
              "      <td>683.0</td>\n",
              "      <td>79.0</td>\n",
              "    </tr>\n",
              "    <tr>\n",
              "      <th>O</th>\n",
              "      <td>0.0</td>\n",
              "      <td>NaN</td>\n",
              "      <td>NaN</td>\n",
              "      <td>NaN</td>\n",
              "    </tr>\n",
              "    <tr>\n",
              "      <th>P</th>\n",
              "      <td>14.0</td>\n",
              "      <td>4.0</td>\n",
              "      <td>13.0</td>\n",
              "      <td>1.0</td>\n",
              "    </tr>\n",
              "    <tr>\n",
              "      <th>Q</th>\n",
              "      <td>25.0</td>\n",
              "      <td>19.0</td>\n",
              "      <td>14.0</td>\n",
              "      <td>4.0</td>\n",
              "    </tr>\n",
              "    <tr>\n",
              "      <th>R</th>\n",
              "      <td>3.0</td>\n",
              "      <td>0.0</td>\n",
              "      <td>6.0</td>\n",
              "      <td>2.0</td>\n",
              "    </tr>\n",
              "    <tr>\n",
              "      <th>S</th>\n",
              "      <td>37.0</td>\n",
              "      <td>27.0</td>\n",
              "      <td>34.0</td>\n",
              "      <td>1.0</td>\n",
              "    </tr>\n",
              "    <tr>\n",
              "      <th>otros</th>\n",
              "      <td>6727.0</td>\n",
              "      <td>5201.0</td>\n",
              "      <td>5087.0</td>\n",
              "      <td>785.0</td>\n",
              "    </tr>\n",
              "  </tbody>\n",
              "</table>\n",
              "</div>\n",
              "      <button class=\"colab-df-convert\" onclick=\"convertToInteractive('df-afe6fb57-6483-4503-abb8-b6931bce3956')\"\n",
              "              title=\"Convert this dataframe to an interactive table.\"\n",
              "              style=\"display:none;\">\n",
              "        \n",
              "  <svg xmlns=\"http://www.w3.org/2000/svg\" height=\"24px\"viewBox=\"0 0 24 24\"\n",
              "       width=\"24px\">\n",
              "    <path d=\"M0 0h24v24H0V0z\" fill=\"none\"/>\n",
              "    <path d=\"M18.56 5.44l.94 2.06.94-2.06 2.06-.94-2.06-.94-.94-2.06-.94 2.06-2.06.94zm-11 1L8.5 8.5l.94-2.06 2.06-.94-2.06-.94L8.5 2.5l-.94 2.06-2.06.94zm10 10l.94 2.06.94-2.06 2.06-.94-2.06-.94-.94-2.06-.94 2.06-2.06.94z\"/><path d=\"M17.41 7.96l-1.37-1.37c-.4-.4-.92-.59-1.43-.59-.52 0-1.04.2-1.43.59L10.3 9.45l-7.72 7.72c-.78.78-.78 2.05 0 2.83L4 21.41c.39.39.9.59 1.41.59.51 0 1.02-.2 1.41-.59l7.78-7.78 2.81-2.81c.8-.78.8-2.07 0-2.86zM5.41 20L4 18.59l7.72-7.72 1.47 1.35L5.41 20z\"/>\n",
              "  </svg>\n",
              "      </button>\n",
              "      \n",
              "  <style>\n",
              "    .colab-df-container {\n",
              "      display:flex;\n",
              "      flex-wrap:wrap;\n",
              "      gap: 12px;\n",
              "    }\n",
              "\n",
              "    .colab-df-convert {\n",
              "      background-color: #E8F0FE;\n",
              "      border: none;\n",
              "      border-radius: 50%;\n",
              "      cursor: pointer;\n",
              "      display: none;\n",
              "      fill: #1967D2;\n",
              "      height: 32px;\n",
              "      padding: 0 0 0 0;\n",
              "      width: 32px;\n",
              "    }\n",
              "\n",
              "    .colab-df-convert:hover {\n",
              "      background-color: #E2EBFA;\n",
              "      box-shadow: 0px 1px 2px rgba(60, 64, 67, 0.3), 0px 1px 3px 1px rgba(60, 64, 67, 0.15);\n",
              "      fill: #174EA6;\n",
              "    }\n",
              "\n",
              "    [theme=dark] .colab-df-convert {\n",
              "      background-color: #3B4455;\n",
              "      fill: #D2E3FC;\n",
              "    }\n",
              "\n",
              "    [theme=dark] .colab-df-convert:hover {\n",
              "      background-color: #434B5C;\n",
              "      box-shadow: 0px 1px 3px 1px rgba(0, 0, 0, 0.15);\n",
              "      filter: drop-shadow(0px 1px 2px rgba(0, 0, 0, 0.3));\n",
              "      fill: #FFFFFF;\n",
              "    }\n",
              "  </style>\n",
              "\n",
              "      <script>\n",
              "        const buttonEl =\n",
              "          document.querySelector('#df-afe6fb57-6483-4503-abb8-b6931bce3956 button.colab-df-convert');\n",
              "        buttonEl.style.display =\n",
              "          google.colab.kernel.accessAllowed ? 'block' : 'none';\n",
              "\n",
              "        async function convertToInteractive(key) {\n",
              "          const element = document.querySelector('#df-afe6fb57-6483-4503-abb8-b6931bce3956');\n",
              "          const dataTable =\n",
              "            await google.colab.kernel.invokeFunction('convertToInteractive',\n",
              "                                                     [key], {});\n",
              "          if (!dataTable) return;\n",
              "\n",
              "          const docLinkHtml = 'Like what you see? Visit the ' +\n",
              "            '<a target=\"_blank\" href=https://colab.research.google.com/notebooks/data_table.ipynb>data table notebook</a>'\n",
              "            + ' to learn more about interactive tables.';\n",
              "          element.innerHTML = '';\n",
              "          dataTable['output_type'] = 'display_data';\n",
              "          await google.colab.output.renderOutput(dataTable, element);\n",
              "          const docLink = document.createElement('div');\n",
              "          docLink.innerHTML = docLinkHtml;\n",
              "          element.appendChild(docLink);\n",
              "        }\n",
              "      </script>\n",
              "    </div>\n",
              "  </div>\n",
              "  "
            ]
          },
          "metadata": {},
          "execution_count": 30
        }
      ]
    },
    {
      "cell_type": "code",
      "source": [
        "sbn.set_style('darkgrid')\n",
        "fig, axs = plt.subplots(figsize=(6, 10))\n",
        "foo = sbn.heatmap(ciiu_wins_per_year.iloc[:-1], # Pivot Table, verificar orden, eso importa para asignar los labels\n",
        "                  ax=axs, \n",
        "                  cmap='YlOrBr',           # formato de colores -> otros más: https://seaborn.pydata.org/tutorial/color_palettes.html\n",
        "                  annot=True,              # mostrar los valores\n",
        "                  fmt='.0f'                # con 0 decimales\n",
        "                  )\n",
        "plt.yticks(rotation=0) \n",
        "axs.set_title(\"Cantidad de empresas que ganaron las licitaciones \\npor año y código CIIU\\n\")"
      ],
      "metadata": {
        "colab": {
          "base_uri": "https://localhost:8080/",
          "height": 668
        },
        "id": "PeuOM3s_tvXf",
        "outputId": "8c5c8f85-ac6b-4f0b-8f4a-b07436137efd"
      },
      "execution_count": 31,
      "outputs": [
        {
          "output_type": "execute_result",
          "data": {
            "text/plain": [
              "Text(0.5, 1.0, 'Cantidad de empresas que ganaron las licitaciones \\npor año y código CIIU\\n')"
            ]
          },
          "metadata": {},
          "execution_count": 31
        },
        {
          "output_type": "display_data",
          "data": {
            "text/plain": [
              "<Figure size 432x720 with 2 Axes>"
            ],
            "image/png": "[encoded data removed]"
          },
          "metadata": {}
        }
      ]
    },
    {
      "cell_type": "markdown",
      "source": [
        "### Respuesta a **Pregunta 9**"
      ],
      "metadata": {
        "id": "VNHhkJt4aur0"
      }
    },
    {
      "cell_type": "code",
      "source": [
        "ciiu_loses_per_year = pd.pivot_table(data = p89_data, \n",
        "                                     aggfunc = np.sum,      # La suma de los       loses\n",
        "                                     values = 'loses',      # valor de las celdas   ↩\n",
        "                                     index = 'CIIU',        # Por tipo de sector productivo\n",
        "                                     columns = 'year'       # y por año\n",
        "                                     )\n",
        "ciiu_loses_per_year"
      ],
      "metadata": {
        "colab": {
          "base_uri": "https://localhost:8080/",
          "height": 708
        },
        "id": "jLV3yQ6D_f90",
        "outputId": "26d23f9b-ae0a-4b7a-9126-f714ba7f02c7"
      },
      "execution_count": 32,
      "outputs": [
        {
          "output_type": "execute_result",
          "data": {
            "text/plain": [
              "year      2019     2020     2021    2022\n",
              "CIIU                                    \n",
              "A         54.0     51.0     53.0    10.0\n",
              "B         60.0     51.0     44.0     4.0\n",
              "C       1720.0   1608.0   1633.0   189.0\n",
              "D        106.0    117.0     64.0    10.0\n",
              "E         74.0    135.0    126.0    17.0\n",
              "F       4189.0   4682.0   4700.0   779.0\n",
              "G       9393.0   6667.0   6370.0   965.0\n",
              "H        422.0    546.0    454.0    33.0\n",
              "I         18.0      6.0      5.0     0.0\n",
              "J        467.0    346.0    176.0    42.0\n",
              "K          5.0     10.0      2.0     1.0\n",
              "L        200.0    157.0    189.0    41.0\n",
              "M       1257.0   1040.0    915.0   166.0\n",
              "N       7724.0   5903.0   7182.0  1001.0\n",
              "O          1.0      NaN      NaN     NaN\n",
              "P        130.0     42.0     35.0    13.0\n",
              "Q         83.0     32.0     70.0     7.0\n",
              "R         15.0      5.0      8.0     3.0\n",
              "S        168.0     99.0    113.0     8.0\n",
              "otros  39317.0  64255.0  55100.0  5305.0"
            ],
            "text/html": [
              "\n",
              "  <div id=\"df-7e231081-4942-4fc6-8ba2-a3b1b6dd8a22\">\n",
              "    <div class=\"colab-df-container\">\n",
              "      <div>\n",
              "<style scoped>\n",
              "    .dataframe tbody tr th:only-of-type {\n",
              "        vertical-align: middle;\n",
              "    }\n",
              "\n",
              "    .dataframe tbody tr th {\n",
              "        vertical-align: top;\n",
              "    }\n",
              "\n",
              "    .dataframe thead th {\n",
              "        text-align: right;\n",
              "    }\n",
              "</style>\n",
              "<table border=\"1\" class=\"dataframe\">\n",
              "  <thead>\n",
              "    <tr style=\"text-align: right;\">\n",
              "      <th>year</th>\n",
              "      <th>2019</th>\n",
              "      <th>2020</th>\n",
              "      <th>2021</th>\n",
              "      <th>2022</th>\n",
              "    </tr>\n",
              "    <tr>\n",
              "      <th>CIIU</th>\n",
              "      <th></th>\n",
              "      <th></th>\n",
              "      <th></th>\n",
              "      <th></th>\n",
              "    </tr>\n",
              "  </thead>\n",
              "  <tbody>\n",
              "    <tr>\n",
              "      <th>A</th>\n",
              "      <td>54.0</td>\n",
              "      <td>51.0</td>\n",
              "      <td>53.0</td>\n",
              "      <td>10.0</td>\n",
              "    </tr>\n",
              "    <tr>\n",
              "      <th>B</th>\n",
              "      <td>60.0</td>\n",
              "      <td>51.0</td>\n",
              "      <td>44.0</td>\n",
              "      <td>4.0</td>\n",
              "    </tr>\n",
              "    <tr>\n",
              "      <th>C</th>\n",
              "      <td>1720.0</td>\n",
              "      <td>1608.0</td>\n",
              "      <td>1633.0</td>\n",
              "      <td>189.0</td>\n",
              "    </tr>\n",
              "    <tr>\n",
              "      <th>D</th>\n",
              "      <td>106.0</td>\n",
              "      <td>117.0</td>\n",
              "      <td>64.0</td>\n",
              "      <td>10.0</td>\n",
              "    </tr>\n",
              "    <tr>\n",
              "      <th>E</th>\n",
              "      <td>74.0</td>\n",
              "      <td>135.0</td>\n",
              "      <td>126.0</td>\n",
              "      <td>17.0</td>\n",
              "    </tr>\n",
              "    <tr>\n",
              "      <th>F</th>\n",
              "      <td>4189.0</td>\n",
              "      <td>4682.0</td>\n",
              "      <td>4700.0</td>\n",
              "      <td>779.0</td>\n",
              "    </tr>\n",
              "    <tr>\n",
              "      <th>G</th>\n",
              "      <td>9393.0</td>\n",
              "      <td>6667.0</td>\n",
              "      <td>6370.0</td>\n",
              "      <td>965.0</td>\n",
              "    </tr>\n",
              "    <tr>\n",
              "      <th>H</th>\n",
              "      <td>422.0</td>\n",
              "      <td>546.0</td>\n",
              "      <td>454.0</td>\n",
              "      <td>33.0</td>\n",
              "    </tr>\n",
              "    <tr>\n",
              "      <th>I</th>\n",
              "      <td>18.0</td>\n",
              "      <td>6.0</td>\n",
              "      <td>5.0</td>\n",
              "      <td>0.0</td>\n",
              "    </tr>\n",
              "    <tr>\n",
              "      <th>J</th>\n",
              "      <td>467.0</td>\n",
              "      <td>346.0</td>\n",
              "      <td>176.0</td>\n",
              "      <td>42.0</td>\n",
              "    </tr>\n",
              "    <tr>\n",
              "      <th>K</th>\n",
              "      <td>5.0</td>\n",
              "      <td>10.0</td>\n",
              "      <td>2.0</td>\n",
              "      <td>1.0</td>\n",
              "    </tr>\n",
              "    <tr>\n",
              "      <th>L</th>\n",
              "      <td>200.0</td>\n",
              "      <td>157.0</td>\n",
              "      <td>189.0</td>\n",
              "      <td>41.0</td>\n",
              "    </tr>\n",
              "    <tr>\n",
              "      <th>M</th>\n",
              "      <td>1257.0</td>\n",
              "      <td>1040.0</td>\n",
              "      <td>915.0</td>\n",
              "      <td>166.0</td>\n",
              "    </tr>\n",
              "    <tr>\n",
              "      <th>N</th>\n",
              "      <td>7724.0</td>\n",
              "      <td>5903.0</td>\n",
              "      <td>7182.0</td>\n",
              "      <td>1001.0</td>\n",
              "    </tr>\n",
              "    <tr>\n",
              "      <th>O</th>\n",
              "      <td>1.0</td>\n",
              "      <td>NaN</td>\n",
              "      <td>NaN</td>\n",
              "      <td>NaN</td>\n",
              "    </tr>\n",
              "    <tr>\n",
              "      <th>P</th>\n",
              "      <td>130.0</td>\n",
              "      <td>42.0</td>\n",
              "      <td>35.0</td>\n",
              "      <td>13.0</td>\n",
              "    </tr>\n",
              "    <tr>\n",
              "      <th>Q</th>\n",
              "      <td>83.0</td>\n",
              "      <td>32.0</td>\n",
              "      <td>70.0</td>\n",
              "      <td>7.0</td>\n",
              "    </tr>\n",
              "    <tr>\n",
              "      <th>R</th>\n",
              "      <td>15.0</td>\n",
              "      <td>5.0</td>\n",
              "      <td>8.0</td>\n",
              "      <td>3.0</td>\n",
              "    </tr>\n",
              "    <tr>\n",
              "      <th>S</th>\n",
              "      <td>168.0</td>\n",
              "      <td>99.0</td>\n",
              "      <td>113.0</td>\n",
              "      <td>8.0</td>\n",
              "    </tr>\n",
              "    <tr>\n",
              "      <th>otros</th>\n",
              "      <td>39317.0</td>\n",
              "      <td>64255.0</td>\n",
              "      <td>55100.0</td>\n",
              "      <td>5305.0</td>\n",
              "    </tr>\n",
              "  </tbody>\n",
              "</table>\n",
              "</div>\n",
              "      <button class=\"colab-df-convert\" onclick=\"convertToInteractive('df-7e231081-4942-4fc6-8ba2-a3b1b6dd8a22')\"\n",
              "              title=\"Convert this dataframe to an interactive table.\"\n",
              "              style=\"display:none;\">\n",
              "        \n",
              "  <svg xmlns=\"http://www.w3.org/2000/svg\" height=\"24px\"viewBox=\"0 0 24 24\"\n",
              "       width=\"24px\">\n",
              "    <path d=\"M0 0h24v24H0V0z\" fill=\"none\"/>\n",
              "    <path d=\"M18.56 5.44l.94 2.06.94-2.06 2.06-.94-2.06-.94-.94-2.06-.94 2.06-2.06.94zm-11 1L8.5 8.5l.94-2.06 2.06-.94-2.06-.94L8.5 2.5l-.94 2.06-2.06.94zm10 10l.94 2.06.94-2.06 2.06-.94-2.06-.94-.94-2.06-.94 2.06-2.06.94z\"/><path d=\"M17.41 7.96l-1.37-1.37c-.4-.4-.92-.59-1.43-.59-.52 0-1.04.2-1.43.59L10.3 9.45l-7.72 7.72c-.78.78-.78 2.05 0 2.83L4 21.41c.39.39.9.59 1.41.59.51 0 1.02-.2 1.41-.59l7.78-7.78 2.81-2.81c.8-.78.8-2.07 0-2.86zM5.41 20L4 18.59l7.72-7.72 1.47 1.35L5.41 20z\"/>\n",
              "  </svg>\n",
              "      </button>\n",
              "      \n",
              "  <style>\n",
              "    .colab-df-container {\n",
              "      display:flex;\n",
              "      flex-wrap:wrap;\n",
              "      gap: 12px;\n",
              "    }\n",
              "\n",
              "    .colab-df-convert {\n",
              "      background-color: #E8F0FE;\n",
              "      border: none;\n",
              "      border-radius: 50%;\n",
              "      cursor: pointer;\n",
              "      display: none;\n",
              "      fill: #1967D2;\n",
              "      height: 32px;\n",
              "      padding: 0 0 0 0;\n",
              "      width: 32px;\n",
              "    }\n",
              "\n",
              "    .colab-df-convert:hover {\n",
              "      background-color: #E2EBFA;\n",
              "      box-shadow: 0px 1px 2px rgba(60, 64, 67, 0.3), 0px 1px 3px 1px rgba(60, 64, 67, 0.15);\n",
              "      fill: #174EA6;\n",
              "    }\n",
              "\n",
              "    [theme=dark] .colab-df-convert {\n",
              "      background-color: #3B4455;\n",
              "      fill: #D2E3FC;\n",
              "    }\n",
              "\n",
              "    [theme=dark] .colab-df-convert:hover {\n",
              "      background-color: #434B5C;\n",
              "      box-shadow: 0px 1px 3px 1px rgba(0, 0, 0, 0.15);\n",
              "      filter: drop-shadow(0px 1px 2px rgba(0, 0, 0, 0.3));\n",
              "      fill: #FFFFFF;\n",
              "    }\n",
              "  </style>\n",
              "\n",
              "      <script>\n",
              "        const buttonEl =\n",
              "          document.querySelector('#df-7e231081-4942-4fc6-8ba2-a3b1b6dd8a22 button.colab-df-convert');\n",
              "        buttonEl.style.display =\n",
              "          google.colab.kernel.accessAllowed ? 'block' : 'none';\n",
              "\n",
              "        async function convertToInteractive(key) {\n",
              "          const element = document.querySelector('#df-7e231081-4942-4fc6-8ba2-a3b1b6dd8a22');\n",
              "          const dataTable =\n",
              "            await google.colab.kernel.invokeFunction('convertToInteractive',\n",
              "                                                     [key], {});\n",
              "          if (!dataTable) return;\n",
              "\n",
              "          const docLinkHtml = 'Like what you see? Visit the ' +\n",
              "            '<a target=\"_blank\" href=https://colab.research.google.com/notebooks/data_table.ipynb>data table notebook</a>'\n",
              "            + ' to learn more about interactive tables.';\n",
              "          element.innerHTML = '';\n",
              "          dataTable['output_type'] = 'display_data';\n",
              "          await google.colab.output.renderOutput(dataTable, element);\n",
              "          const docLink = document.createElement('div');\n",
              "          docLink.innerHTML = docLinkHtml;\n",
              "          element.appendChild(docLink);\n",
              "        }\n",
              "      </script>\n",
              "    </div>\n",
              "  </div>\n",
              "  "
            ]
          },
          "metadata": {},
          "execution_count": 32
        }
      ]
    },
    {
      "cell_type": "code",
      "source": [
        "sbn.set_style('darkgrid')\n",
        "fig, axs = plt.subplots(figsize=(6, 10))\n",
        "foo = sbn.heatmap(ciiu_loses_per_year.iloc[:-1], # Pivot Table, verificar orden, eso importa para asignar los labels\n",
        "                  ax=axs, \n",
        "                  cmap='Blues',            # formato de colores -> otros más: https://seaborn.pydata.org/tutorial/color_palettes.html\n",
        "                  annot=True,              # mostrar los valores\n",
        "                  fmt='.0f'                # con 0 decimales\n",
        "                  )\n",
        "plt.yticks(rotation=0) \n",
        "axs.set_title(\"Cantidad de empresas que perdieron las licitaciones \\npor año y código CIIU\\n\")"
      ],
      "metadata": {
        "colab": {
          "base_uri": "https://localhost:8080/",
          "height": 668
        },
        "id": "T2dp8umQC9_d",
        "outputId": "59fd55ee-41e5-4f05-b2fd-f88b740e02ac"
      },
      "execution_count": 33,
      "outputs": [
        {
          "output_type": "execute_result",
          "data": {
            "text/plain": [
              "Text(0.5, 1.0, 'Cantidad de empresas que perdieron las licitaciones \\npor año y código CIIU\\n')"
            ]
          },
          "metadata": {},
          "execution_count": 33
        },
        {
          "output_type": "display_data",
          "data": {
            "text/plain": [
              "<Figure size 432x720 with 2 Axes>"
            ],
            "image/png": "[encoded data removed]"
          },
          "metadata": {}
        }
      ]
    },
    {
      "cell_type": "code",
      "source": [],
      "metadata": {
        "id": "d4dtt_Y_DiJc"
      },
      "execution_count": 33,
      "outputs": []
    },
    {
      "cell_type": "markdown",
      "source": [
        "# Pregunta 10\n",
        "\n",
        "Tops 10 de las empresas más contratadas y rechazadas en el **sector G** y los criterios de selección relacionados a ellas (tender.awardCriteria)\n",
        "\n",
        "Con esto se busca responder a:\n",
        " - ¿Qué tanto afectó a las empresas que más contrataciones tenían en el 2019 la pandemia?"
      ],
      "metadata": {
        "id": "2WqdgnXPooRU"
      }
    },
    {
      "cell_type": "markdown",
      "source": [
        "## Verificamos los awardCriteria para cada año"
      ],
      "metadata": {
        "id": "jf1aeGmUsZDz"
      }
    },
    {
      "cell_type": "code",
      "source": [
        "awardCriterias_per_year = dict()\n",
        "for year in [\"2019\", \"2020\", \"2021\", \"2022\"]:\n",
        "    print(year)\n",
        "    for elem in pd.json_normalize(load_complete_data(year, True)['content']).loc[:,\"tender.awardCriteria\"].unique(): \n",
        "        if year not in awardCriterias_per_year:\n",
        "            awardCriterias_per_year[year] = [elem]\n",
        "        else:\n",
        "            awardCriterias_per_year[year] += [elem]"
      ],
      "metadata": {
        "id": "fCC2ywzdopCq"
      },
      "execution_count": null,
      "outputs": []
    },
    {
      "cell_type": "code",
      "source": [
        "for year, criterias in awardCriterias_per_year.items():\n",
        "    print(\"awardCriteria del año\", year, \"-->\", criterias, end=\"\\n\\n\")\n",
        "\n",
        "# Como vemos son solo de ratedCriteria"
      ],
      "metadata": {
        "colab": {
          "base_uri": "https://localhost:8080/"
        },
        "id": "oPK7GKYurlsD",
        "outputId": "bc9aa159-00a3-4a63-bc50-546a1d3a201f"
      },
      "execution_count": 14,
      "outputs": [
        {
          "output_type": "stream",
          "name": "stdout",
          "text": [
            "awardCriteria del año 2019 --> [nan, 'ratedCriteria']\n",
            "\n",
            "awardCriteria del año 2020 --> ['ratedCriteria', nan]\n",
            "\n",
            "awardCriteria del año 2021 --> [nan, 'ratedCriteria']\n",
            "\n",
            "awardCriteria del año 2022 --> [nan, 'ratedCriteria']\n",
            "\n"
          ]
        }
      ]
    },
    {
      "cell_type": "markdown",
      "source": [
        "## Data Generation"
      ],
      "metadata": {
        "id": "0nFFm7J3zjSX"
      }
    },
    {
      "cell_type": "code",
      "source": [
        "url_proyect"
      ],
      "metadata": {
        "colab": {
          "base_uri": "https://localhost:8080/",
          "height": 35
        },
        "id": "aNtBn2AWy34M",
        "outputId": "fc64c3ee-edbc-4897-eab9-651d68de7911"
      },
      "execution_count": 34,
      "outputs": [
        {
          "output_type": "execute_result",
          "data": {
            "text/plain": [
              "'/content/Sercop-DataScience'"
            ],
            "application/vnd.google.colaboratory.intrinsic+json": {
              "type": "string"
            }
          },
          "metadata": {},
          "execution_count": 34
        }
      ]
    },
    {
      "cell_type": "code",
      "source": [
        "dir_p10_dataGenerated = url_proyect + \"/data/output/Pregunta 10/\""
      ],
      "metadata": {
        "id": "-8cuacmkopAf"
      },
      "execution_count": 35,
      "outputs": []
    },
    {
      "cell_type": "code",
      "source": [
        "# Generar Data\n",
        "from utilities.utilities import verify_create_folder\n",
        "verify_create_folder(dir_p10_dataGenerated)\n",
        "\n",
        "for year in [\"2019\", \"2020\", \"2021\", \"2022\"]:\n",
        "    print(\"\\n\\n\\n\", year, \"\\n\")\n",
        "    name_file = \"p10_\"+year+\".csv\"\n",
        "    pd.DataFrame(data_p_generator(year)).transpose().reset_index().to_csv(dir_p10_dataGenerated + name_file, index=False)"
      ],
      "metadata": {
        "colab": {
          "base_uri": "https://localhost:8080/"
        },
        "id": "3TvA3L8Ioos5",
        "outputId": "941873ac-518b-4cf5-8a2a-78d4e82a7403"
      },
      "execution_count": 46,
      "outputs": [
        {
          "output_type": "stream",
          "name": "stdout",
          "text": [
            "\tLa carpeta '/content/Sercop-DataScience/data/output/Pregunta 10/' ya ha sido creada\n",
            "\n",
            "\n",
            "\n",
            " 2019 \n",
            "\n",
            "Preparing... \n",
            "\n",
            "\tExtracted files successfully!! from:  /content/Sercop-DataScience/data/complete/2019/dataComplete2019_2.zip\n",
            "\n",
            "\tExtracted files successfully!! from:  /content/Sercop-DataScience/data/complete/2019/dataComplete2019_1.zip\n",
            "dataComplete2019_batch17.json\n",
            "dataComplete2019_batch09.json\n",
            "dataComplete2019_batch18.json\n",
            "dataComplete2019_batch08.json\n",
            "dataComplete2019_batch12.json\n",
            "dataComplete2019_batch06.json\n",
            "dataComplete2019_batch11.json\n",
            "dataComplete2019_batch15.json\n",
            "dataComplete2019_batch05.json\n",
            "dataComplete2019_batch02.json\n",
            "dataComplete2019_batch13.json\n",
            "dataComplete2019_batch01.json\n",
            "dataComplete2019_batch10.json\n",
            "dataComplete2019_batch07.json\n",
            "dataComplete2019_batch03.json\n",
            "dataComplete2019_batch04.json\n",
            "dataComplete2019_batch14.json\n",
            "dataComplete2019_batch16.json\n",
            "0\n",
            "Progress: [■■■■■■■■■■■■■■■■■■■■■■■■■■■■■■■■■■■■■■■■■■■■■■■■■■]  13017/13017 \u001b[39m\n",
            "\n",
            "\n",
            "\n",
            " 2020 \n",
            "\n",
            "Preparing... \n",
            "\n",
            "\tExtracted files successfully!! from:  /content/Sercop-DataScience/data/complete/2020/dataComplete2020_2.zip\n",
            "\n",
            "\tExtracted files successfully!! from:  /content/Sercop-DataScience/data/complete/2020/dataComplete2020_1.zip\n",
            "dataComplete2020_batch09.json\n",
            "dataComplete2020_batch11.json\n",
            "dataComplete2020_batch04.json\n",
            "dataComplete2020_batch08.json\n",
            "dataComplete2020_batch10.json\n",
            "dataComplete2020_batch05.json\n",
            "dataComplete2020_batch02.json\n",
            "dataComplete2020_batch06.json\n",
            "dataComplete2020_batch03.json\n",
            "dataComplete2020_batch01.json\n",
            "dataComplete2020_batch07.json\n",
            "0\n",
            "Progress: [■■■■■■■■■■■■■■■■■■■■■■■■■■■■■■■■■■■■■■■■■■■■■■■   ]   9618/10154 \n",
            "\n",
            "\n",
            " 2021 \n",
            "\n",
            "Preparing... \n",
            "\n",
            "\tExtracted files successfully!! from:  /content/Sercop-DataScience/data/complete/2021/dataComplete2021_2.zip\n",
            "\n",
            "\tExtracted files successfully!! from:  /content/Sercop-DataScience/data/complete/2021/dataComplete2021_1.zip\n",
            "dataComplete2021_batch04.json\n",
            "dataComplete2021_batch11.json\n",
            "dataComplete2021_batch09.json\n",
            "dataComplete2021_batch08.json\n",
            "dataComplete2021_batch10.json\n",
            "dataComplete2021_batch02.json\n",
            "dataComplete2021_batch07.json\n",
            "dataComplete2021_batch03.json\n",
            "dataComplete2021_batch05.json\n",
            "dataComplete2021_batch06.json\n",
            "dataComplete2021_batch01.json\n",
            "0\n",
            "Progress: [■■■■■■■■■■■■■■■■■■■■■■■■■■■■■■■■■■■■■■■■■■■■■■■■■■]   9659/9659 \u001b[39m\n",
            "\n",
            "\n",
            "\n",
            " 2022 \n",
            "\n",
            "Preparing... \n",
            "\n",
            "\tExtracted files successfully!! from:  /content/Sercop-DataScience/data/complete/2022/dataComplete2022_2.zip\n",
            "\n",
            "\tExtracted files successfully!! from:  /content/Sercop-DataScience/data/complete/2022/dataComplete2022_1.zip\n",
            "dataComplete2022_batch08.json\n",
            "dataComplete2022_batch07.json\n",
            "dataComplete2022_batch04.json\n",
            "dataComplete2022_batch03.json\n",
            "dataComplete2022_batch05.json\n",
            "dataComplete2022_batch06.json\n",
            "dataComplete2022_batch02.json\n",
            "dataComplete2022_batch01.json\n",
            "dataComplete2022_batch09.json\n",
            "dataComplete2022_batch10.json\n",
            "0\n",
            "Progress: [■■■■■■■■■■■■■■■■■■■■■■■■■■■■■■■■■■■■■■■■■■■■■■■■■■]   1492/1492 \u001b[39m\n"
          ]
        }
      ]
    },
    {
      "cell_type": "code",
      "source": [],
      "metadata": {
        "id": "zVPmYNPhzoef"
      },
      "execution_count": null,
      "outputs": []
    },
    {
      "cell_type": "code",
      "source": [],
      "metadata": {
        "id": "HZw6zqR_zocJ"
      },
      "execution_count": null,
      "outputs": []
    },
    {
      "cell_type": "markdown",
      "source": [
        "## Visualizations"
      ],
      "metadata": {
        "id": "EdUDoUK8zloh"
      }
    },
    {
      "cell_type": "code",
      "source": [
        "import seaborn as sbn\n",
        "import matplotlib.pyplot as plt"
      ],
      "metadata": {
        "id": "Fxhni3Sq4Q1X"
      },
      "execution_count": 47,
      "outputs": []
    },
    {
      "cell_type": "code",
      "source": [
        "p10_2019=pd.read_csv(dir_p10_dataGenerated+\"p10_2019.csv\")\n",
        "p10_2020=pd.read_csv(dir_p10_dataGenerated+\"p10_2020.csv\")\n",
        "p10_2021=pd.read_csv(dir_p10_dataGenerated+\"p10_2021.csv\")\n",
        "p10_2022=pd.read_csv(dir_p10_dataGenerated+\"p10_2022.csv\")\n",
        "\n",
        "p10_2019[\"year\"]=\"2019\"\n",
        "p10_2020[\"year\"]=\"2020\"\n",
        "p10_2021[\"year\"]=\"2021\"\n",
        "p10_2022[\"year\"]=\"2022\""
      ],
      "metadata": {
        "id": "8o5hJe1dzl6C"
      },
      "execution_count": 64,
      "outputs": []
    },
    {
      "cell_type": "code",
      "source": [
        "p10_data = pd.concat([p10_2019, p10_2020, p10_2021, p10_2022]).loc[p10_data[\"awardeds\"].notna() & p10_data[\"loses\"].notna()]\n",
        "p10_data.head()"
      ],
      "metadata": {
        "colab": {
          "base_uri": "https://localhost:8080/",
          "height": 337
        },
        "id": "BfjG6CxU3r_q",
        "outputId": "fd67679c-54a1-4f3e-e79c-6261def629b2"
      },
      "execution_count": 74,
      "outputs": [
        {
          "output_type": "execute_result",
          "data": {
            "text/plain": [
              "                                               index  \\\n",
              "0                                        GADERE S.A.   \n",
              "1  G&M TRATAMIENTO INTEGRAL DE DESECHOS G&MCOM CI...   \n",
              "2                           CHANG AURIA VICTOR GUIDO   \n",
              "3                                     HOLDAGUAS S.A.   \n",
              "4                                        UESDEP S.A.   \n",
              "\n",
              "                           RUC   CIIU  \\\n",
              "0   EC-RUC-0992294272001-42582      E   \n",
              "1  EC-RUC-1792776023001-966187      E   \n",
              "2   EC-RUC-0906466263001-63147  otros   \n",
              "3  EC-RUC-0992510404001-229613      G   \n",
              "4  EC-RUC-0992868775001-559510      F   \n",
              "\n",
              "                                           CIIU_name  awardeds  loses  \\\n",
              "0  DISTRIBUCIÓN DE AGUA; ALCANTARILLADO, GESTIÓN ...        10      4   \n",
              "1  DISTRIBUCIÓN DE AGUA; ALCANTARILLADO, GESTIÓN ...         1      0   \n",
              "2                                              otros         1      2   \n",
              "3  COMERCIO AL POR MAYOR Y AL POR MENOR; REPARACI...         3      0   \n",
              "4                                       CONSTRUCCIÓN         0      5   \n",
              "\n",
              "   total_contracts  year  \n",
              "0               14  2019  \n",
              "1                1  2019  \n",
              "2                3  2019  \n",
              "3                3  2019  \n",
              "4                5  2019  "
            ],
            "text/html": [
              "\n",
              "  <div id=\"df-8ce625ce-706b-46ff-9710-5c3b999ecdb6\">\n",
              "    <div class=\"colab-df-container\">\n",
              "      <div>\n",
              "<style scoped>\n",
              "    .dataframe tbody tr th:only-of-type {\n",
              "        vertical-align: middle;\n",
              "    }\n",
              "\n",
              "    .dataframe tbody tr th {\n",
              "        vertical-align: top;\n",
              "    }\n",
              "\n",
              "    .dataframe thead th {\n",
              "        text-align: right;\n",
              "    }\n",
              "</style>\n",
              "<table border=\"1\" class=\"dataframe\">\n",
              "  <thead>\n",
              "    <tr style=\"text-align: right;\">\n",
              "      <th></th>\n",
              "      <th>index</th>\n",
              "      <th>RUC</th>\n",
              "      <th>CIIU</th>\n",
              "      <th>CIIU_name</th>\n",
              "      <th>awardeds</th>\n",
              "      <th>loses</th>\n",
              "      <th>total_contracts</th>\n",
              "      <th>year</th>\n",
              "    </tr>\n",
              "  </thead>\n",
              "  <tbody>\n",
              "    <tr>\n",
              "      <th>0</th>\n",
              "      <td>GADERE S.A.</td>\n",
              "      <td>EC-RUC-0992294272001-42582</td>\n",
              "      <td>E</td>\n",
              "      <td>DISTRIBUCIÓN DE AGUA; ALCANTARILLADO, GESTIÓN ...</td>\n",
              "      <td>10</td>\n",
              "      <td>4</td>\n",
              "      <td>14</td>\n",
              "      <td>2019</td>\n",
              "    </tr>\n",
              "    <tr>\n",
              "      <th>1</th>\n",
              "      <td>G&amp;M TRATAMIENTO INTEGRAL DE DESECHOS G&amp;MCOM CI...</td>\n",
              "      <td>EC-RUC-1792776023001-966187</td>\n",
              "      <td>E</td>\n",
              "      <td>DISTRIBUCIÓN DE AGUA; ALCANTARILLADO, GESTIÓN ...</td>\n",
              "      <td>1</td>\n",
              "      <td>0</td>\n",
              "      <td>1</td>\n",
              "      <td>2019</td>\n",
              "    </tr>\n",
              "    <tr>\n",
              "      <th>2</th>\n",
              "      <td>CHANG AURIA VICTOR GUIDO</td>\n",
              "      <td>EC-RUC-0906466263001-63147</td>\n",
              "      <td>otros</td>\n",
              "      <td>otros</td>\n",
              "      <td>1</td>\n",
              "      <td>2</td>\n",
              "      <td>3</td>\n",
              "      <td>2019</td>\n",
              "    </tr>\n",
              "    <tr>\n",
              "      <th>3</th>\n",
              "      <td>HOLDAGUAS S.A.</td>\n",
              "      <td>EC-RUC-0992510404001-229613</td>\n",
              "      <td>G</td>\n",
              "      <td>COMERCIO AL POR MAYOR Y AL POR MENOR; REPARACI...</td>\n",
              "      <td>3</td>\n",
              "      <td>0</td>\n",
              "      <td>3</td>\n",
              "      <td>2019</td>\n",
              "    </tr>\n",
              "    <tr>\n",
              "      <th>4</th>\n",
              "      <td>UESDEP S.A.</td>\n",
              "      <td>EC-RUC-0992868775001-559510</td>\n",
              "      <td>F</td>\n",
              "      <td>CONSTRUCCIÓN</td>\n",
              "      <td>0</td>\n",
              "      <td>5</td>\n",
              "      <td>5</td>\n",
              "      <td>2019</td>\n",
              "    </tr>\n",
              "  </tbody>\n",
              "</table>\n",
              "</div>\n",
              "      <button class=\"colab-df-convert\" onclick=\"convertToInteractive('df-8ce625ce-706b-46ff-9710-5c3b999ecdb6')\"\n",
              "              title=\"Convert this dataframe to an interactive table.\"\n",
              "              style=\"display:none;\">\n",
              "        \n",
              "  <svg xmlns=\"http://www.w3.org/2000/svg\" height=\"24px\"viewBox=\"0 0 24 24\"\n",
              "       width=\"24px\">\n",
              "    <path d=\"M0 0h24v24H0V0z\" fill=\"none\"/>\n",
              "    <path d=\"M18.56 5.44l.94 2.06.94-2.06 2.06-.94-2.06-.94-.94-2.06-.94 2.06-2.06.94zm-11 1L8.5 8.5l.94-2.06 2.06-.94-2.06-.94L8.5 2.5l-.94 2.06-2.06.94zm10 10l.94 2.06.94-2.06 2.06-.94-2.06-.94-.94-2.06-.94 2.06-2.06.94z\"/><path d=\"M17.41 7.96l-1.37-1.37c-.4-.4-.92-.59-1.43-.59-.52 0-1.04.2-1.43.59L10.3 9.45l-7.72 7.72c-.78.78-.78 2.05 0 2.83L4 21.41c.39.39.9.59 1.41.59.51 0 1.02-.2 1.41-.59l7.78-7.78 2.81-2.81c.8-.78.8-2.07 0-2.86zM5.41 20L4 18.59l7.72-7.72 1.47 1.35L5.41 20z\"/>\n",
              "  </svg>\n",
              "      </button>\n",
              "      \n",
              "  <style>\n",
              "    .colab-df-container {\n",
              "      display:flex;\n",
              "      flex-wrap:wrap;\n",
              "      gap: 12px;\n",
              "    }\n",
              "\n",
              "    .colab-df-convert {\n",
              "      background-color: #E8F0FE;\n",
              "      border: none;\n",
              "      border-radius: 50%;\n",
              "      cursor: pointer;\n",
              "      display: none;\n",
              "      fill: #1967D2;\n",
              "      height: 32px;\n",
              "      padding: 0 0 0 0;\n",
              "      width: 32px;\n",
              "    }\n",
              "\n",
              "    .colab-df-convert:hover {\n",
              "      background-color: #E2EBFA;\n",
              "      box-shadow: 0px 1px 2px rgba(60, 64, 67, 0.3), 0px 1px 3px 1px rgba(60, 64, 67, 0.15);\n",
              "      fill: #174EA6;\n",
              "    }\n",
              "\n",
              "    [theme=dark] .colab-df-convert {\n",
              "      background-color: #3B4455;\n",
              "      fill: #D2E3FC;\n",
              "    }\n",
              "\n",
              "    [theme=dark] .colab-df-convert:hover {\n",
              "      background-color: #434B5C;\n",
              "      box-shadow: 0px 1px 3px 1px rgba(0, 0, 0, 0.15);\n",
              "      filter: drop-shadow(0px 1px 2px rgba(0, 0, 0, 0.3));\n",
              "      fill: #FFFFFF;\n",
              "    }\n",
              "  </style>\n",
              "\n",
              "      <script>\n",
              "        const buttonEl =\n",
              "          document.querySelector('#df-8ce625ce-706b-46ff-9710-5c3b999ecdb6 button.colab-df-convert');\n",
              "        buttonEl.style.display =\n",
              "          google.colab.kernel.accessAllowed ? 'block' : 'none';\n",
              "\n",
              "        async function convertToInteractive(key) {\n",
              "          const element = document.querySelector('#df-8ce625ce-706b-46ff-9710-5c3b999ecdb6');\n",
              "          const dataTable =\n",
              "            await google.colab.kernel.invokeFunction('convertToInteractive',\n",
              "                                                     [key], {});\n",
              "          if (!dataTable) return;\n",
              "\n",
              "          const docLinkHtml = 'Like what you see? Visit the ' +\n",
              "            '<a target=\"_blank\" href=https://colab.research.google.com/notebooks/data_table.ipynb>data table notebook</a>'\n",
              "            + ' to learn more about interactive tables.';\n",
              "          element.innerHTML = '';\n",
              "          dataTable['output_type'] = 'display_data';\n",
              "          await google.colab.output.renderOutput(dataTable, element);\n",
              "          const docLink = document.createElement('div');\n",
              "          docLink.innerHTML = docLinkHtml;\n",
              "          element.appendChild(docLink);\n",
              "        }\n",
              "      </script>\n",
              "    </div>\n",
              "  </div>\n",
              "  "
            ]
          },
          "metadata": {},
          "execution_count": 74
        }
      ]
    },
    {
      "cell_type": "code",
      "source": [
        "p10_data.info()"
      ],
      "metadata": {
        "colab": {
          "base_uri": "https://localhost:8080/"
        },
        "id": "_T3rM1Ct76bO",
        "outputId": "a65693aa-ae99-4a3a-87cf-41076c2a1685"
      },
      "execution_count": 73,
      "outputs": [
        {
          "output_type": "stream",
          "name": "stdout",
          "text": [
            "<class 'pandas.core.frame.DataFrame'>\n",
            "Int64Index: 45620 entries, 0 to 4898\n",
            "Data columns (total 8 columns):\n",
            " #   Column           Non-Null Count  Dtype \n",
            "---  ------           --------------  ----- \n",
            " 0   index            45616 non-null  object\n",
            " 1   RUC              45620 non-null  object\n",
            " 2   CIIU             45620 non-null  object\n",
            " 3   CIIU_name        45620 non-null  object\n",
            " 4   awardeds         45620 non-null  int64 \n",
            " 5   loses            45620 non-null  int64 \n",
            " 6   total_contracts  45620 non-null  int64 \n",
            " 7   year             45620 non-null  object\n",
            "dtypes: int64(3), object(5)\n",
            "memory usage: 3.1+ MB\n"
          ]
        }
      ]
    },
    {
      "cell_type": "code",
      "source": [],
      "metadata": {
        "id": "b49Ydphp9XjM"
      },
      "execution_count": null,
      "outputs": []
    },
    {
      "cell_type": "code",
      "source": [
        "companies_wins = p10_2019.sort_values(by=\"awardeds\", ascending=False).reset_index(drop=True).loc[:10,\"index\"].tolist()\n",
        "companies_wins"
      ],
      "metadata": {
        "colab": {
          "base_uri": "https://localhost:8080/"
        },
        "id": "IW0_sy3r5MJo",
        "outputId": "92e1a4de-c193-4066-a61a-62bb0f07dff3"
      },
      "execution_count": 75,
      "outputs": [
        {
          "output_type": "execute_result",
          "data": {
            "text/plain": [
              "['ASEGURADORA DEL SUR C. A.',\n",
              " 'PRODUCTOS Y DISTRIBUCIONES MEDICAS ANDINO PRODIMEDA CIA. LTDA.',\n",
              " 'MEDILABOR S.A.',\n",
              " 'AKROS CIA. LTDA.',\n",
              " 'B.BRAUN MEDICAL S.A.',\n",
              " 'SIMED S. A.',\n",
              " 'LABORATORIO VIDA (LABOVIDA) S.A.',\n",
              " 'MUÑOZ BRAVO FREDDY ARTURO',\n",
              " 'SEGUROS ALIANZA S A',\n",
              " 'SWEADEN COMPAÑIA DE SEGUROS S.A.',\n",
              " 'MAXIMAMEDICAL CIA. LTDA.']"
            ]
          },
          "metadata": {},
          "execution_count": 75
        }
      ]
    },
    {
      "cell_type": "code",
      "source": [
        "companies_loses = p10_2019.sort_values(by=\"loses\", ascending=False).reset_index(drop=True).loc[:10,\"index\"].tolist()\n",
        "companies_loses"
      ],
      "metadata": {
        "colab": {
          "base_uri": "https://localhost:8080/"
        },
        "id": "tPz9YaYU5nyA",
        "outputId": "a1a5840c-e49c-48fb-fc8f-5761e449fcb1"
      },
      "execution_count": 76,
      "outputs": [
        {
          "output_type": "execute_result",
          "data": {
            "text/plain": [
              "['VELEZ SUAREZ MARIA MONSERRATE',\n",
              " 'DISTRIBUIDORA MEINJOR IMPORT MEDIK CIA.LTDA.',\n",
              " 'SOLIS GUEVARA SILVIA JEANNETTE',\n",
              " 'SANCHEZ & VITERI SEGURIDAD CIA. LTDA.',\n",
              " 'MORALES VARAS NELSON GUILLERMO',\n",
              " 'SEGUROS SUCRE S.A.',\n",
              " 'REPRESENTACIONES MOLINA HERRERA M.H. CIA. LTDA.',\n",
              " 'GONZALEZ & GONZALEZ SEGURIDAD PRIVADA SEGONPRIV CIA.LTDA.',\n",
              " 'ALTA SEGURIDAD PRIVADA ALPRISEG CIA LTDA',\n",
              " 'COMSUPPLIES S.A',\n",
              " 'SEGURIDAD PRIVADA DE CALIDAD SEGPRIC CIA. LTDA.']"
            ]
          },
          "metadata": {},
          "execution_count": 76
        }
      ]
    },
    {
      "cell_type": "code",
      "source": [
        "#.sort_values(by=\"awardeds\", ascending=False).reset_index(drop=True).loc[:10,[\"index\", \"awardeds\"]]\n",
        "#.sort_values(by=\"loses\", ascending=False).reset_index(drop=True).loc[:10,[\"index\", \"loses\"]]"
      ],
      "metadata": {
        "id": "9Z5Gobo4zmSY"
      },
      "execution_count": null,
      "outputs": []
    },
    {
      "cell_type": "code",
      "source": [
        "wins_per_year = pd.pivot_table(data = p10_data, \n",
        "                                aggfunc = np.sum,      # La suma de los       loses\n",
        "                                values = 'awardeds',      # valor de las celdas   ↩\n",
        "                                index = 'index',        # Por tipo de sector productivo\n",
        "                                columns = 'year'       # y por año\n",
        "                                )\n",
        "wins_per_year = wins_per_year.loc[wins_per_year[\"2019\"].notna()].loc[companies_wins]\n",
        "wins_per_year"
      ],
      "metadata": {
        "colab": {
          "base_uri": "https://localhost:8080/",
          "height": 426
        },
        "id": "rlaojH3V6u42",
        "outputId": "affc9527-8653-477a-80ce-3fd625e2410f"
      },
      "execution_count": 86,
      "outputs": [
        {
          "output_type": "execute_result",
          "data": {
            "text/plain": [
              "year                                                2019  2020   2021  2022\n",
              "index                                                                      \n",
              "ASEGURADORA DEL SUR C. A.                           87.0  97.0   93.0  17.0\n",
              "PRODUCTOS Y DISTRIBUCIONES MEDICAS ANDINO PRODI...  61.0  39.0   50.0   1.0\n",
              "MEDILABOR S.A.                                      53.0  32.0   28.0   2.0\n",
              "AKROS CIA. LTDA.                                    53.0   9.0   11.0   NaN\n",
              "B.BRAUN MEDICAL S.A.                                52.0  33.0   61.0   4.0\n",
              "SIMED S. A.                                         51.0  30.0   29.0   7.0\n",
              "LABORATORIO VIDA (LABOVIDA) S.A.                    51.0  84.0  133.0  12.0\n",
              "MUÑOZ BRAVO FREDDY ARTURO                           49.0  39.0   47.0   1.0\n",
              "SEGUROS ALIANZA S A                                 46.0  53.0   53.0  15.0\n",
              "SWEADEN COMPAÑIA DE SEGUROS S.A.                    43.0  37.0   35.0   4.0\n",
              "MAXIMAMEDICAL CIA. LTDA.                            41.0   9.0   14.0   2.0"
            ],
            "text/html": [
              "\n",
              "  <div id=\"df-5af62104-ddb1-48d9-8cc4-df7dc519402b\">\n",
              "    <div class=\"colab-df-container\">\n",
              "      <div>\n",
              "<style scoped>\n",
              "    .dataframe tbody tr th:only-of-type {\n",
              "        vertical-align: middle;\n",
              "    }\n",
              "\n",
              "    .dataframe tbody tr th {\n",
              "        vertical-align: top;\n",
              "    }\n",
              "\n",
              "    .dataframe thead th {\n",
              "        text-align: right;\n",
              "    }\n",
              "</style>\n",
              "<table border=\"1\" class=\"dataframe\">\n",
              "  <thead>\n",
              "    <tr style=\"text-align: right;\">\n",
              "      <th>year</th>\n",
              "      <th>2019</th>\n",
              "      <th>2020</th>\n",
              "      <th>2021</th>\n",
              "      <th>2022</th>\n",
              "    </tr>\n",
              "    <tr>\n",
              "      <th>index</th>\n",
              "      <th></th>\n",
              "      <th></th>\n",
              "      <th></th>\n",
              "      <th></th>\n",
              "    </tr>\n",
              "  </thead>\n",
              "  <tbody>\n",
              "    <tr>\n",
              "      <th>ASEGURADORA DEL SUR C. A.</th>\n",
              "      <td>87.0</td>\n",
              "      <td>97.0</td>\n",
              "      <td>93.0</td>\n",
              "      <td>17.0</td>\n",
              "    </tr>\n",
              "    <tr>\n",
              "      <th>PRODUCTOS Y DISTRIBUCIONES MEDICAS ANDINO PRODIMEDA CIA. LTDA.</th>\n",
              "      <td>61.0</td>\n",
              "      <td>39.0</td>\n",
              "      <td>50.0</td>\n",
              "      <td>1.0</td>\n",
              "    </tr>\n",
              "    <tr>\n",
              "      <th>MEDILABOR S.A.</th>\n",
              "      <td>53.0</td>\n",
              "      <td>32.0</td>\n",
              "      <td>28.0</td>\n",
              "      <td>2.0</td>\n",
              "    </tr>\n",
              "    <tr>\n",
              "      <th>AKROS CIA. LTDA.</th>\n",
              "      <td>53.0</td>\n",
              "      <td>9.0</td>\n",
              "      <td>11.0</td>\n",
              "      <td>NaN</td>\n",
              "    </tr>\n",
              "    <tr>\n",
              "      <th>B.BRAUN MEDICAL S.A.</th>\n",
              "      <td>52.0</td>\n",
              "      <td>33.0</td>\n",
              "      <td>61.0</td>\n",
              "      <td>4.0</td>\n",
              "    </tr>\n",
              "    <tr>\n",
              "      <th>SIMED S. A.</th>\n",
              "      <td>51.0</td>\n",
              "      <td>30.0</td>\n",
              "      <td>29.0</td>\n",
              "      <td>7.0</td>\n",
              "    </tr>\n",
              "    <tr>\n",
              "      <th>LABORATORIO VIDA (LABOVIDA) S.A.</th>\n",
              "      <td>51.0</td>\n",
              "      <td>84.0</td>\n",
              "      <td>133.0</td>\n",
              "      <td>12.0</td>\n",
              "    </tr>\n",
              "    <tr>\n",
              "      <th>MUÑOZ BRAVO FREDDY ARTURO</th>\n",
              "      <td>49.0</td>\n",
              "      <td>39.0</td>\n",
              "      <td>47.0</td>\n",
              "      <td>1.0</td>\n",
              "    </tr>\n",
              "    <tr>\n",
              "      <th>SEGUROS ALIANZA S A</th>\n",
              "      <td>46.0</td>\n",
              "      <td>53.0</td>\n",
              "      <td>53.0</td>\n",
              "      <td>15.0</td>\n",
              "    </tr>\n",
              "    <tr>\n",
              "      <th>SWEADEN COMPAÑIA DE SEGUROS S.A.</th>\n",
              "      <td>43.0</td>\n",
              "      <td>37.0</td>\n",
              "      <td>35.0</td>\n",
              "      <td>4.0</td>\n",
              "    </tr>\n",
              "    <tr>\n",
              "      <th>MAXIMAMEDICAL CIA. LTDA.</th>\n",
              "      <td>41.0</td>\n",
              "      <td>9.0</td>\n",
              "      <td>14.0</td>\n",
              "      <td>2.0</td>\n",
              "    </tr>\n",
              "  </tbody>\n",
              "</table>\n",
              "</div>\n",
              "      <button class=\"colab-df-convert\" onclick=\"convertToInteractive('df-5af62104-ddb1-48d9-8cc4-df7dc519402b')\"\n",
              "              title=\"Convert this dataframe to an interactive table.\"\n",
              "              style=\"display:none;\">\n",
              "        \n",
              "  <svg xmlns=\"http://www.w3.org/2000/svg\" height=\"24px\"viewBox=\"0 0 24 24\"\n",
              "       width=\"24px\">\n",
              "    <path d=\"M0 0h24v24H0V0z\" fill=\"none\"/>\n",
              "    <path d=\"M18.56 5.44l.94 2.06.94-2.06 2.06-.94-2.06-.94-.94-2.06-.94 2.06-2.06.94zm-11 1L8.5 8.5l.94-2.06 2.06-.94-2.06-.94L8.5 2.5l-.94 2.06-2.06.94zm10 10l.94 2.06.94-2.06 2.06-.94-2.06-.94-.94-2.06-.94 2.06-2.06.94z\"/><path d=\"M17.41 7.96l-1.37-1.37c-.4-.4-.92-.59-1.43-.59-.52 0-1.04.2-1.43.59L10.3 9.45l-7.72 7.72c-.78.78-.78 2.05 0 2.83L4 21.41c.39.39.9.59 1.41.59.51 0 1.02-.2 1.41-.59l7.78-7.78 2.81-2.81c.8-.78.8-2.07 0-2.86zM5.41 20L4 18.59l7.72-7.72 1.47 1.35L5.41 20z\"/>\n",
              "  </svg>\n",
              "      </button>\n",
              "      \n",
              "  <style>\n",
              "    .colab-df-container {\n",
              "      display:flex;\n",
              "      flex-wrap:wrap;\n",
              "      gap: 12px;\n",
              "    }\n",
              "\n",
              "    .colab-df-convert {\n",
              "      background-color: #E8F0FE;\n",
              "      border: none;\n",
              "      border-radius: 50%;\n",
              "      cursor: pointer;\n",
              "      display: none;\n",
              "      fill: #1967D2;\n",
              "      height: 32px;\n",
              "      padding: 0 0 0 0;\n",
              "      width: 32px;\n",
              "    }\n",
              "\n",
              "    .colab-df-convert:hover {\n",
              "      background-color: #E2EBFA;\n",
              "      box-shadow: 0px 1px 2px rgba(60, 64, 67, 0.3), 0px 1px 3px 1px rgba(60, 64, 67, 0.15);\n",
              "      fill: #174EA6;\n",
              "    }\n",
              "\n",
              "    [theme=dark] .colab-df-convert {\n",
              "      background-color: #3B4455;\n",
              "      fill: #D2E3FC;\n",
              "    }\n",
              "\n",
              "    [theme=dark] .colab-df-convert:hover {\n",
              "      background-color: #434B5C;\n",
              "      box-shadow: 0px 1px 3px 1px rgba(0, 0, 0, 0.15);\n",
              "      filter: drop-shadow(0px 1px 2px rgba(0, 0, 0, 0.3));\n",
              "      fill: #FFFFFF;\n",
              "    }\n",
              "  </style>\n",
              "\n",
              "      <script>\n",
              "        const buttonEl =\n",
              "          document.querySelector('#df-5af62104-ddb1-48d9-8cc4-df7dc519402b button.colab-df-convert');\n",
              "        buttonEl.style.display =\n",
              "          google.colab.kernel.accessAllowed ? 'block' : 'none';\n",
              "\n",
              "        async function convertToInteractive(key) {\n",
              "          const element = document.querySelector('#df-5af62104-ddb1-48d9-8cc4-df7dc519402b');\n",
              "          const dataTable =\n",
              "            await google.colab.kernel.invokeFunction('convertToInteractive',\n",
              "                                                     [key], {});\n",
              "          if (!dataTable) return;\n",
              "\n",
              "          const docLinkHtml = 'Like what you see? Visit the ' +\n",
              "            '<a target=\"_blank\" href=https://colab.research.google.com/notebooks/data_table.ipynb>data table notebook</a>'\n",
              "            + ' to learn more about interactive tables.';\n",
              "          element.innerHTML = '';\n",
              "          dataTable['output_type'] = 'display_data';\n",
              "          await google.colab.output.renderOutput(dataTable, element);\n",
              "          const docLink = document.createElement('div');\n",
              "          docLink.innerHTML = docLinkHtml;\n",
              "          element.appendChild(docLink);\n",
              "        }\n",
              "      </script>\n",
              "    </div>\n",
              "  </div>\n",
              "  "
            ]
          },
          "metadata": {},
          "execution_count": 86
        }
      ]
    },
    {
      "cell_type": "code",
      "source": [
        "wins_per_year.plot.barh()"
      ],
      "metadata": {
        "colab": {
          "base_uri": "https://localhost:8080/",
          "height": 282
        },
        "id": "NhhwYK6x3r3Q",
        "outputId": "1dbf8dcb-7e42-4e1e-939e-2683d4d9275e"
      },
      "execution_count": 87,
      "outputs": [
        {
          "output_type": "execute_result",
          "data": {
            "text/plain": [
              "<matplotlib.axes._subplots.AxesSubplot at 0x7f24bd2e8130>"
            ]
          },
          "metadata": {},
          "execution_count": 87
        },
        {
          "output_type": "display_data",
          "data": {
            "text/plain": [
              "<Figure size 432x288 with 1 Axes>"
            ],
            "image/png": "[encoded data removed]"
          },
          "metadata": {}
        }
      ]
    },
    {
      "cell_type": "code",
      "source": [
        "loses_per_year = pd.pivot_table(data = p10_data, \n",
        "                                aggfunc = np.sum,      # La suma de los       loses\n",
        "                                values = 'loses',      # valor de las celdas   ↩\n",
        "                                index = 'index',        # Por tipo de sector productivo\n",
        "                                columns = 'year'       # y por año\n",
        "                                )\n",
        "loses_per_year = loses_per_year.loc[loses_per_year[\"2019\"].notna()].loc[companies_loses]\n",
        "loses_per_year"
      ],
      "metadata": {
        "colab": {
          "base_uri": "https://localhost:8080/",
          "height": 426
        },
        "id": "FUjJSDlO-u9S",
        "outputId": "4c01020d-1318-4414-a71c-b104e799f971"
      },
      "execution_count": 88,
      "outputs": [
        {
          "output_type": "execute_result",
          "data": {
            "text/plain": [
              "year                                                 2019   2020   2021  2022\n",
              "index                                                                        \n",
              "VELEZ SUAREZ MARIA MONSERRATE                       324.0  164.0   34.0   NaN\n",
              "DISTRIBUIDORA MEINJOR IMPORT MEDIK CIA.LTDA.        244.0  143.0  128.0   2.0\n",
              "SOLIS GUEVARA SILVIA JEANNETTE                      234.0  168.0  109.0  21.0\n",
              "SANCHEZ & VITERI SEGURIDAD CIA. LTDA.               229.0  118.0  150.0  15.0\n",
              "MORALES VARAS NELSON GUILLERMO                      200.0   61.0  104.0  11.0\n",
              "SEGUROS SUCRE S.A.                                  197.0  216.0   58.0   NaN\n",
              "REPRESENTACIONES MOLINA HERRERA M.H. CIA. LTDA.     188.0  113.0  159.0  23.0\n",
              "GONZALEZ & GONZALEZ SEGURIDAD PRIVADA SEGONPRIV...  183.0  264.0  157.0  21.0\n",
              "ALTA SEGURIDAD PRIVADA ALPRISEG CIA LTDA            180.0   96.0   96.0   9.0\n",
              "COMSUPPLIES S.A                                     176.0   75.0   47.0   NaN\n",
              "SEGURIDAD PRIVADA DE CALIDAD SEGPRIC CIA. LTDA.     155.0  125.0  109.0   8.0"
            ],
            "text/html": [
              "\n",
              "  <div id=\"df-277fa8f1-baff-4140-8895-73d0a70f765a\">\n",
              "    <div class=\"colab-df-container\">\n",
              "      <div>\n",
              "<style scoped>\n",
              "    .dataframe tbody tr th:only-of-type {\n",
              "        vertical-align: middle;\n",
              "    }\n",
              "\n",
              "    .dataframe tbody tr th {\n",
              "        vertical-align: top;\n",
              "    }\n",
              "\n",
              "    .dataframe thead th {\n",
              "        text-align: right;\n",
              "    }\n",
              "</style>\n",
              "<table border=\"1\" class=\"dataframe\">\n",
              "  <thead>\n",
              "    <tr style=\"text-align: right;\">\n",
              "      <th>year</th>\n",
              "      <th>2019</th>\n",
              "      <th>2020</th>\n",
              "      <th>2021</th>\n",
              "      <th>2022</th>\n",
              "    </tr>\n",
              "    <tr>\n",
              "      <th>index</th>\n",
              "      <th></th>\n",
              "      <th></th>\n",
              "      <th></th>\n",
              "      <th></th>\n",
              "    </tr>\n",
              "  </thead>\n",
              "  <tbody>\n",
              "    <tr>\n",
              "      <th>VELEZ SUAREZ MARIA MONSERRATE</th>\n",
              "      <td>324.0</td>\n",
              "      <td>164.0</td>\n",
              "      <td>34.0</td>\n",
              "      <td>NaN</td>\n",
              "    </tr>\n",
              "    <tr>\n",
              "      <th>DISTRIBUIDORA MEINJOR IMPORT MEDIK CIA.LTDA.</th>\n",
              "      <td>244.0</td>\n",
              "      <td>143.0</td>\n",
              "      <td>128.0</td>\n",
              "      <td>2.0</td>\n",
              "    </tr>\n",
              "    <tr>\n",
              "      <th>SOLIS GUEVARA SILVIA JEANNETTE</th>\n",
              "      <td>234.0</td>\n",
              "      <td>168.0</td>\n",
              "      <td>109.0</td>\n",
              "      <td>21.0</td>\n",
              "    </tr>\n",
              "    <tr>\n",
              "      <th>SANCHEZ &amp; VITERI SEGURIDAD CIA. LTDA.</th>\n",
              "      <td>229.0</td>\n",
              "      <td>118.0</td>\n",
              "      <td>150.0</td>\n",
              "      <td>15.0</td>\n",
              "    </tr>\n",
              "    <tr>\n",
              "      <th>MORALES VARAS NELSON GUILLERMO</th>\n",
              "      <td>200.0</td>\n",
              "      <td>61.0</td>\n",
              "      <td>104.0</td>\n",
              "      <td>11.0</td>\n",
              "    </tr>\n",
              "    <tr>\n",
              "      <th>SEGUROS SUCRE S.A.</th>\n",
              "      <td>197.0</td>\n",
              "      <td>216.0</td>\n",
              "      <td>58.0</td>\n",
              "      <td>NaN</td>\n",
              "    </tr>\n",
              "    <tr>\n",
              "      <th>REPRESENTACIONES MOLINA HERRERA M.H. CIA. LTDA.</th>\n",
              "      <td>188.0</td>\n",
              "      <td>113.0</td>\n",
              "      <td>159.0</td>\n",
              "      <td>23.0</td>\n",
              "    </tr>\n",
              "    <tr>\n",
              "      <th>GONZALEZ &amp; GONZALEZ SEGURIDAD PRIVADA SEGONPRIV CIA.LTDA.</th>\n",
              "      <td>183.0</td>\n",
              "      <td>264.0</td>\n",
              "      <td>157.0</td>\n",
              "      <td>21.0</td>\n",
              "    </tr>\n",
              "    <tr>\n",
              "      <th>ALTA SEGURIDAD PRIVADA ALPRISEG CIA LTDA</th>\n",
              "      <td>180.0</td>\n",
              "      <td>96.0</td>\n",
              "      <td>96.0</td>\n",
              "      <td>9.0</td>\n",
              "    </tr>\n",
              "    <tr>\n",
              "      <th>COMSUPPLIES S.A</th>\n",
              "      <td>176.0</td>\n",
              "      <td>75.0</td>\n",
              "      <td>47.0</td>\n",
              "      <td>NaN</td>\n",
              "    </tr>\n",
              "    <tr>\n",
              "      <th>SEGURIDAD PRIVADA DE CALIDAD SEGPRIC CIA. LTDA.</th>\n",
              "      <td>155.0</td>\n",
              "      <td>125.0</td>\n",
              "      <td>109.0</td>\n",
              "      <td>8.0</td>\n",
              "    </tr>\n",
              "  </tbody>\n",
              "</table>\n",
              "</div>\n",
              "      <button class=\"colab-df-convert\" onclick=\"convertToInteractive('df-277fa8f1-baff-4140-8895-73d0a70f765a')\"\n",
              "              title=\"Convert this dataframe to an interactive table.\"\n",
              "              style=\"display:none;\">\n",
              "        \n",
              "  <svg xmlns=\"http://www.w3.org/2000/svg\" height=\"24px\"viewBox=\"0 0 24 24\"\n",
              "       width=\"24px\">\n",
              "    <path d=\"M0 0h24v24H0V0z\" fill=\"none\"/>\n",
              "    <path d=\"M18.56 5.44l.94 2.06.94-2.06 2.06-.94-2.06-.94-.94-2.06-.94 2.06-2.06.94zm-11 1L8.5 8.5l.94-2.06 2.06-.94-2.06-.94L8.5 2.5l-.94 2.06-2.06.94zm10 10l.94 2.06.94-2.06 2.06-.94-2.06-.94-.94-2.06-.94 2.06-2.06.94z\"/><path d=\"M17.41 7.96l-1.37-1.37c-.4-.4-.92-.59-1.43-.59-.52 0-1.04.2-1.43.59L10.3 9.45l-7.72 7.72c-.78.78-.78 2.05 0 2.83L4 21.41c.39.39.9.59 1.41.59.51 0 1.02-.2 1.41-.59l7.78-7.78 2.81-2.81c.8-.78.8-2.07 0-2.86zM5.41 20L4 18.59l7.72-7.72 1.47 1.35L5.41 20z\"/>\n",
              "  </svg>\n",
              "      </button>\n",
              "      \n",
              "  <style>\n",
              "    .colab-df-container {\n",
              "      display:flex;\n",
              "      flex-wrap:wrap;\n",
              "      gap: 12px;\n",
              "    }\n",
              "\n",
              "    .colab-df-convert {\n",
              "      background-color: #E8F0FE;\n",
              "      border: none;\n",
              "      border-radius: 50%;\n",
              "      cursor: pointer;\n",
              "      display: none;\n",
              "      fill: #1967D2;\n",
              "      height: 32px;\n",
              "      padding: 0 0 0 0;\n",
              "      width: 32px;\n",
              "    }\n",
              "\n",
              "    .colab-df-convert:hover {\n",
              "      background-color: #E2EBFA;\n",
              "      box-shadow: 0px 1px 2px rgba(60, 64, 67, 0.3), 0px 1px 3px 1px rgba(60, 64, 67, 0.15);\n",
              "      fill: #174EA6;\n",
              "    }\n",
              "\n",
              "    [theme=dark] .colab-df-convert {\n",
              "      background-color: #3B4455;\n",
              "      fill: #D2E3FC;\n",
              "    }\n",
              "\n",
              "    [theme=dark] .colab-df-convert:hover {\n",
              "      background-color: #434B5C;\n",
              "      box-shadow: 0px 1px 3px 1px rgba(0, 0, 0, 0.15);\n",
              "      filter: drop-shadow(0px 1px 2px rgba(0, 0, 0, 0.3));\n",
              "      fill: #FFFFFF;\n",
              "    }\n",
              "  </style>\n",
              "\n",
              "      <script>\n",
              "        const buttonEl =\n",
              "          document.querySelector('#df-277fa8f1-baff-4140-8895-73d0a70f765a button.colab-df-convert');\n",
              "        buttonEl.style.display =\n",
              "          google.colab.kernel.accessAllowed ? 'block' : 'none';\n",
              "\n",
              "        async function convertToInteractive(key) {\n",
              "          const element = document.querySelector('#df-277fa8f1-baff-4140-8895-73d0a70f765a');\n",
              "          const dataTable =\n",
              "            await google.colab.kernel.invokeFunction('convertToInteractive',\n",
              "                                                     [key], {});\n",
              "          if (!dataTable) return;\n",
              "\n",
              "          const docLinkHtml = 'Like what you see? Visit the ' +\n",
              "            '<a target=\"_blank\" href=https://colab.research.google.com/notebooks/data_table.ipynb>data table notebook</a>'\n",
              "            + ' to learn more about interactive tables.';\n",
              "          element.innerHTML = '';\n",
              "          dataTable['output_type'] = 'display_data';\n",
              "          await google.colab.output.renderOutput(dataTable, element);\n",
              "          const docLink = document.createElement('div');\n",
              "          docLink.innerHTML = docLinkHtml;\n",
              "          element.appendChild(docLink);\n",
              "        }\n",
              "      </script>\n",
              "    </div>\n",
              "  </div>\n",
              "  "
            ]
          },
          "metadata": {},
          "execution_count": 88
        }
      ]
    },
    {
      "cell_type": "code",
      "source": [
        "loses_per_year.plot.barh()"
      ],
      "metadata": {
        "colab": {
          "base_uri": "https://localhost:8080/",
          "height": 282
        },
        "id": "JIXVWRlJ-u6f",
        "outputId": "0385b64d-4e3b-4a4a-a193-d8e4c57306c9"
      },
      "execution_count": 89,
      "outputs": [
        {
          "output_type": "execute_result",
          "data": {
            "text/plain": [
              "<matplotlib.axes._subplots.AxesSubplot at 0x7f24b270dbb0>"
            ]
          },
          "metadata": {},
          "execution_count": 89
        },
        {
          "output_type": "display_data",
          "data": {
            "text/plain": [
              "<Figure size 432x288 with 1 Axes>"
            ],
            "image/png": "[encoded data removed]"
          },
          "metadata": {}
        }
      ]
    },
    {
      "cell_type": "code",
      "source": [],
      "metadata": {
        "id": "uQJK6lgC-6fz"
      },
      "execution_count": null,
      "outputs": []
    }
  ]
}