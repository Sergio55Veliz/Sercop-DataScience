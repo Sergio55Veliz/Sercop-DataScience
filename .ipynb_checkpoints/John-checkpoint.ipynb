{
 "cells": [
  {
   "cell_type": "code",
   "execution_count": 1,
   "metadata": {},
   "outputs": [],
   "source": [
    "from __init__ import *\n",
    "from extracting_dataset import *\n",
    "from extracting_dataset import load_complete_data\n",
    "from statistics import mean\n",
    "import json"
   ]
  },
  {
   "cell_type": "code",
   "execution_count": 2,
   "metadata": {},
   "outputs": [],
   "source": [
    "def generate_df_NF062(unzip = True):\n",
    "    years = [2019, 2020, 2021, 2022]\n",
    "    list_df = []\n",
    "\n",
    "    for year in years:\n",
    "        df = pd.json_normalize(load_complete_data(year, unzip)['content'])\n",
    "        # Filtro a la data que queremos analizar\n",
    "        df = df.loc[(df[\"tender.status\"]==\"complete\") \n",
    "                    & (df[\"awards\"].notnull()) \n",
    "                    & (df[\"tender.awardPeriod.durationInDays\"]>0)\n",
    "                    ].reset_index(drop=True)\n",
    "\n",
    "        df[\"NF062\"] = 0\n",
    "        df.loc[df[\"tender.awardPeriod.durationInDays\"] < mean(df[\"tender.awardPeriod.durationInDays\"]), \"NF062\"] = 1\n",
    "        \n",
    "        list_df += df.loc[:,\n",
    "                          [\"ocid\", \"awards\", \"tender.awardPeriod.durationInDays\", \"NF062\"]\n",
    "                         ].to_dict('split')[\"data\"]\n",
    "\n",
    "    list_to_df = []\n",
    "    for lista in list_df:\n",
    "        ocid = lista[0]\n",
    "        nf062 = lista[3]\n",
    "        for data in lista[1]:\n",
    "            ruc = data[\"suppliers\"][0][\"id\"]\n",
    "            list_to_df.append([ocid, ruc, nf062])\n",
    "\n",
    "    df_to_return = pd.DataFrame(list_to_df)\n",
    "    df_to_return.columns = [\"ocid\", \"RUC\", \"NF062\"]\n",
    "    df_to_return.head()\n",
    "    \n",
    "    return df_to_return"
   ]
  },
  {
   "cell_type": "code",
   "execution_count": 3,
   "metadata": {},
   "outputs": [
    {
     "name": "stdout",
     "output_type": "stream",
     "text": [
      "dataComplete2019_batch01.json\n",
      "dataComplete2019_batch02.json\n",
      "dataComplete2019_batch03.json\n",
      "dataComplete2019_batch04.json\n",
      "dataComplete2019_batch05.json\n",
      "dataComplete2019_batch06.json\n",
      "dataComplete2019_batch07.json\n",
      "dataComplete2019_batch08.json\n",
      "dataComplete2019_batch09.json\n",
      "dataComplete2019_batch10.json\n",
      "dataComplete2019_batch11.json\n",
      "dataComplete2019_batch12.json\n",
      "dataComplete2019_batch13.json\n",
      "dataComplete2019_batch14.json\n",
      "dataComplete2019_batch15.json\n",
      "dataComplete2019_batch16.json\n",
      "dataComplete2019_batch17.json\n",
      "dataComplete2019_batch18.json\n",
      "dataComplete2020_batch01.json\n",
      "dataComplete2020_batch02.json\n",
      "dataComplete2020_batch03.json\n",
      "dataComplete2020_batch04.json\n",
      "dataComplete2020_batch05.json\n",
      "dataComplete2020_batch06.json\n",
      "dataComplete2020_batch07.json\n",
      "dataComplete2020_batch08.json\n",
      "dataComplete2020_batch09.json\n",
      "dataComplete2020_batch10.json\n",
      "dataComplete2020_batch11.json\n",
      "dataComplete2021_batch01.json\n",
      "dataComplete2021_batch02.json\n",
      "dataComplete2021_batch03.json\n",
      "dataComplete2021_batch04.json\n",
      "dataComplete2021_batch05.json\n",
      "dataComplete2021_batch06.json\n",
      "dataComplete2021_batch07.json\n",
      "dataComplete2021_batch08.json\n",
      "dataComplete2021_batch09.json\n",
      "dataComplete2021_batch10.json\n",
      "dataComplete2021_batch11.json\n",
      "dataComplete2022_batch01.json\n",
      "dataComplete2022_batch02.json\n",
      "dataComplete2022_batch03.json\n",
      "dataComplete2022_batch04.json\n",
      "dataComplete2022_batch05.json\n",
      "dataComplete2022_batch06.json\n",
      "dataComplete2022_batch07.json\n",
      "dataComplete2022_batch08.json\n",
      "dataComplete2022_batch09.json\n",
      "dataComplete2022_batch10.json\n"
     ]
    }
   ],
   "source": [
    "name_csv = \"nf062.csv\"\n",
    "generate_df_NF062(unzip=False).to_csv(url_proyect + '\\\\data\\\\redflags_analysis\\\\' + name_csv, index=False)"
   ]
  },
  {
   "cell_type": "code",
   "execution_count": null,
   "metadata": {},
   "outputs": [],
   "source": []
  }
 ],
 "metadata": {
  "kernelspec": {
   "display_name": "Python 3 (ipykernel)",
   "language": "python",
   "name": "python3"
  },
  "language_info": {
   "codemirror_mode": {
    "name": "ipython",
    "version": 3
   },
   "file_extension": ".py",
   "mimetype": "text/x-python",
   "name": "python",
   "nbconvert_exporter": "python",
   "pygments_lexer": "ipython3",
   "version": "3.7.0"
  },
  "vscode": {
   "interpreter": {
    "hash": "e76a4ca81a85a63884b920f7920a334002dfec0710dbe8e4912b1c8abc8858e6"
   }
  }
 },
 "nbformat": 4,
 "nbformat_minor": 2
}
