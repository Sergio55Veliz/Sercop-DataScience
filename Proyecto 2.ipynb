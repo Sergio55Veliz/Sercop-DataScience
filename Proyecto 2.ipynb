{
 "cells": [
  {
   "cell_type": "code",
   "execution_count": 1,
   "id": "93b8822d",
   "metadata": {},
   "outputs": [],
   "source": [
    "import pandas as pd\n",
    "import numpy as np\n",
    "import seaborn as sbn\n",
    "import matplotlib.pyplot as plt\n",
    "import geopandas as gpd\n",
    "import folium, fiona, branca"
   ]
  },
  {
   "cell_type": "code",
   "execution_count": 2,
   "id": "c6c495ba",
   "metadata": {},
   "outputs": [],
   "source": [
    "df2019=pd.read_json(\"../data/data2019.json\")"
   ]
  },
  {
   "cell_type": "code",
   "execution_count": 2,
   "id": "8b6de686",
   "metadata": {},
   "outputs": [],
   "source": [
    "df2020=pd.read_json(\"../data/data2020.json\")"
   ]
  },
  {
   "cell_type": "code",
   "execution_count": 2,
   "id": "8da685a8",
   "metadata": {},
   "outputs": [],
   "source": [
    "df2021=pd.read_json(\"../data/data2021.json\")"
   ]
  },
  {
   "cell_type": "code",
   "execution_count": 2,
   "id": "3e2da5ad",
   "metadata": {},
   "outputs": [],
   "source": [
    "df2022=pd.read_json(\"../data/data2022.json\")"
   ]
  },
  {
   "cell_type": "code",
   "execution_count": 19,
   "id": "e152f4f9",
   "metadata": {},
   "outputs": [],
   "source": [
    "df2019=df2019[df2019[\"tender\"].notnull()]\n",
    "tender2019=pd.json_normalize(df2019[\"tender\"])\n",
    "tender2019=tender2019[tender2019[\"items\"].notnull()]\n",
    "items2019=tender2019[\"items\"].explode().reset_index()\n",
    "items2019[\"unit.value.amount\"]=pd.json_normalize(items2019[\"items\"])[\"unit.value.amount\"]\n",
    "items2019[\"classification.id\"]=pd.json_normalize(items2019[\"items\"])[\"classification.id\"]\n",
    "mean2019=items2019.groupby([\"classification.id\"])[\"unit.value.amount\"].mean().reset_index()\n",
    "mean2019.rename(columns={\"unit.value.amount\": \"unit.value.mean\"},inplace=True)\n",
    "std2019=items2019.groupby([\"classification.id\"])[\"unit.value.amount\"].std(ddof=0).reset_index()\n",
    "std2019.rename(columns={\"unit.value.amount\": \"unit.value.std\"},inplace=True)\n",
    "items2019=pd.merge(items2019,mean2019,left_on=\"classification.id\",right_on=\"classification.id\")\n",
    "items2019=pd.merge(items2019,std2019,left_on=\"classification.id\",right_on=\"classification.id\")\n",
    "items2019=items2019[items2019[\"unit.value.std\"]>0]\n",
    "items2019[\"unit.value.zscore\"]=(items2019[\"unit.value.amount\"]-items2019[\"unit.value.mean\"])/items2019[\"unit.value.std\"]\n",
    "items2019=items2019[items2019[\"unit.value.zscore\"].notnull()]\n",
    "items2019=items2019[(items2019[\"unit.value.zscore\"]<-3) | (items2019[\"unit.value.zscore\"]>3)]\n",
    "entity2019=tender2019[\"procuringEntity.id\"].reset_index()\n",
    "ocids2019=df2019[\"ocid\"].reset_index()\n",
    "entity2019=pd.merge(ocids2019,entity2019)\n",
    "nf16_2019=pd.merge(items2019,entity2019).loc[:,[\"procuringEntity.id\",\"ocid\"]]\n",
    "nf16_2019.to_csv(\"../output/nf16_2019.csv\",index=False)"
   ]
  },
  {
   "cell_type": "code",
   "execution_count": 3,
   "id": "0726044c",
   "metadata": {},
   "outputs": [],
   "source": [
    "df2020=df2020[df2020[\"tender\"].notnull()]\n",
    "tender2020=pd.json_normalize(df2020[\"tender\"])\n",
    "tender2020=tender2020[tender2020[\"items\"].notnull()]\n",
    "items2020=tender2020[\"items\"].explode().reset_index()\n",
    "items2020[\"unit.value.amount\"]=pd.json_normalize(items2020[\"items\"])[\"unit.value.amount\"]\n",
    "items2020[\"classification.id\"]=pd.json_normalize(items2020[\"items\"])[\"classification.id\"]\n",
    "mean2020=items2020.groupby([\"classification.id\"])[\"unit.value.amount\"].mean().reset_index()\n",
    "mean2020.rename(columns={\"unit.value.amount\": \"unit.value.mean\"},inplace=True)\n",
    "std2020=items2020.groupby([\"classification.id\"])[\"unit.value.amount\"].std(ddof=0).reset_index()\n",
    "std2020.rename(columns={\"unit.value.amount\": \"unit.value.std\"},inplace=True)\n",
    "items2020=pd.merge(items2020,mean2020,left_on=\"classification.id\",right_on=\"classification.id\")\n",
    "items2020=pd.merge(items2020,std2020,left_on=\"classification.id\",right_on=\"classification.id\")\n",
    "items2020=items2020[items2020[\"unit.value.std\"]>0]\n",
    "items2020[\"unit.value.zscore\"]=(items2020[\"unit.value.amount\"]-items2020[\"unit.value.mean\"])/items2020[\"unit.value.std\"]\n",
    "items2020=items2020[items2020[\"unit.value.zscore\"].notnull()]\n",
    "items2020=items2020[(items2020[\"unit.value.zscore\"]<-3) | (items2020[\"unit.value.zscore\"]>3)]\n",
    "entity2020=tender2020[\"procuringEntity.id\"].reset_index()\n",
    "ocids2020=df2020[\"ocid\"].reset_index()\n",
    "entity2020=pd.merge(ocids2020,entity2020)\n",
    "nf16_2020=pd.merge(items2020,entity2020).loc[:,[\"procuringEntity.id\",\"ocid\"]]\n",
    "nf16_2020.to_csv(\"../output/nf16_2020.csv\",index=False)"
   ]
  },
  {
   "cell_type": "code",
   "execution_count": 3,
   "id": "cf6bd912",
   "metadata": {},
   "outputs": [],
   "source": [
    "df2021=df2021[df2021[\"tender\"].notnull()]\n",
    "tender2021=pd.json_normalize(df2021[\"tender\"])\n",
    "tender2021=tender2021[tender2021[\"items\"].notnull()]\n",
    "items2021=tender2021[\"items\"].explode().reset_index()\n",
    "items2021[\"unit.value.amount\"]=pd.json_normalize(items2021[\"items\"])[\"unit.value.amount\"]\n",
    "items2021[\"classification.id\"]=pd.json_normalize(items2021[\"items\"])[\"classification.id\"]\n",
    "mean2021=items2021.groupby([\"classification.id\"])[\"unit.value.amount\"].mean().reset_index()\n",
    "mean2021.rename(columns={\"unit.value.amount\": \"unit.value.mean\"},inplace=True)\n",
    "std2021=items2021.groupby([\"classification.id\"])[\"unit.value.amount\"].std(ddof=0).reset_index()\n",
    "std2021.rename(columns={\"unit.value.amount\": \"unit.value.std\"},inplace=True)\n",
    "items2021=pd.merge(items2021,mean2021,left_on=\"classification.id\",right_on=\"classification.id\")\n",
    "items2021=pd.merge(items2021,std2021,left_on=\"classification.id\",right_on=\"classification.id\")\n",
    "items2021=items2021[items2021[\"unit.value.std\"]>0]\n",
    "items2021[\"unit.value.zscore\"]=(items2021[\"unit.value.amount\"]-items2021[\"unit.value.mean\"])/items2021[\"unit.value.std\"]\n",
    "items2021=items2021[items2021[\"unit.value.zscore\"].notnull()]\n",
    "items2021=items2021[(items2021[\"unit.value.zscore\"]<-3) | (items2021[\"unit.value.zscore\"]>3)]\n",
    "entity2021=tender2021[\"procuringEntity.id\"].reset_index()\n",
    "ocids2021=df2021[\"ocid\"].reset_index()\n",
    "entity2021=pd.merge(ocids2021,entity2021)\n",
    "nf16_2021=pd.merge(items2021,entity2021).loc[:,[\"procuringEntity.id\",\"ocid\"]]\n",
    "nf16_2021.to_csv(\"../output/nf16_2021.csv\",index=False)"
   ]
  },
  {
   "cell_type": "code",
   "execution_count": 3,
   "id": "bc88bdb5",
   "metadata": {},
   "outputs": [],
   "source": [
    "df2022=df2022[df2022[\"tender\"].notnull()]\n",
    "tender2022=pd.json_normalize(df2022[\"tender\"])\n",
    "tender2022=tender2022[tender2022[\"items\"].notnull()]\n",
    "items2022=tender2022[\"items\"].explode().reset_index()\n",
    "items2022[\"unit.value.amount\"]=pd.json_normalize(items2022[\"items\"])[\"unit.value.amount\"]\n",
    "items2022[\"classification.id\"]=pd.json_normalize(items2022[\"items\"])[\"classification.id\"]\n",
    "mean2022=items2022.groupby([\"classification.id\"])[\"unit.value.amount\"].mean().reset_index()\n",
    "mean2022.rename(columns={\"unit.value.amount\": \"unit.value.mean\"},inplace=True)\n",
    "std2022=items2022.groupby([\"classification.id\"])[\"unit.value.amount\"].std(ddof=0).reset_index()\n",
    "std2022.rename(columns={\"unit.value.amount\": \"unit.value.std\"},inplace=True)\n",
    "items2022=pd.merge(items2022,mean2022,left_on=\"classification.id\",right_on=\"classification.id\")\n",
    "items2022=pd.merge(items2022,std2022,left_on=\"classification.id\",right_on=\"classification.id\")\n",
    "items2022=items2022[items2022[\"unit.value.std\"]>0]\n",
    "items2022[\"unit.value.zscore\"]=(items2022[\"unit.value.amount\"]-items2022[\"unit.value.mean\"])/items2022[\"unit.value.std\"]\n",
    "items2022=items2022[items2022[\"unit.value.zscore\"].notnull()]\n",
    "items2022=items2022[(items2022[\"unit.value.zscore\"]<-3) | (items2022[\"unit.value.zscore\"]>3)]\n",
    "entity2022=tender2022[\"procuringEntity.id\"].reset_index()\n",
    "ocids2022=df2022[\"ocid\"].reset_index()\n",
    "entity2022=pd.merge(ocids2022,entity2022)\n",
    "nf16_2022=pd.merge(items2022,entity2022).loc[:,[\"procuringEntity.id\",\"ocid\"]]\n",
    "nf16_2022.to_csv(\"../output/nf16_2022.csv\",index=False)"
   ]
  },
  {
   "cell_type": "code",
   "execution_count": 4,
   "id": "65768b3d",
   "metadata": {},
   "outputs": [],
   "source": [
    "df2019=pd.read_csv(\"../output/nf16_2019.csv\")\n",
    "df2020=pd.read_csv(\"../output/nf16_2020.csv\")\n",
    "df2021=pd.read_csv(\"../output/nf16_2021.csv\")\n",
    "df2022=pd.read_csv(\"../output/nf16_2022.csv\")"
   ]
  },
  {
   "cell_type": "code",
   "execution_count": 8,
   "id": "1afdb682",
   "metadata": {},
   "outputs": [],
   "source": [
    "final=pd.concat([df2019,df2020,df2021,df2022]).value_counts().reset_index()\n",
    "final[\"nf016\"]=1\n",
    "final=final.drop(columns=[0])"
   ]
  },
  {
   "cell_type": "code",
   "execution_count": 10,
   "id": "b10c8746",
   "metadata": {},
   "outputs": [],
   "source": [
    "final.to_csv(\"../output/nf016.csv\",index=False)"
   ]
  }
 ],
 "metadata": {
  "kernelspec": {
   "display_name": "Python 3 (ipykernel)",
   "language": "python",
   "name": "python3"
  },
  "language_info": {
   "codemirror_mode": {
    "name": "ipython",
    "version": 3
   },
   "file_extension": ".py",
   "mimetype": "text/x-python",
   "name": "python",
   "nbconvert_exporter": "python",
   "pygments_lexer": "ipython3",
   "version": "3.11.0"
  }
 },
 "nbformat": 4,
 "nbformat_minor": 5
}
